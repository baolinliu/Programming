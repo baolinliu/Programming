{
 "cells": [
  {
   "cell_type": "code",
   "execution_count": 9,
   "metadata": {
    "collapsed": false
   },
   "outputs": [],
   "source": [
    "# --------------------------- #\n",
    "# Intro to CS Final Project   #\n",
    "# Gaming Social Network       #\n",
    "# --------------------------- #\n",
    "#\n",
    "# For students who have subscribed to the course,\n",
    "# please read the submission instructions in the Instructor Notes below.\n",
    "# ----------------------------------------------------------------------------- \n",
    "\n",
    "# Background\n",
    "# ==========\n",
    "# You and your friend have decided to start a company that hosts a gaming\n",
    "# social network site. Your friend will handle the website creation (they know \n",
    "# what they are doing, having taken our web development class). However, it is \n",
    "# up to you to create a data structure that manages the game-network information \n",
    "# and to define several procedures that operate on the network. \n",
    "#\n",
    "# In a website, the data is stored in a database. In our case, however, all the \n",
    "# information comes in a big string of text. Each pair of sentences in the text \n",
    "# is formatted as follows: \n",
    "# \n",
    "# <user> is connected to <user1>, ..., <userM>.<user> likes to play <game1>, ..., <gameN>.\n",
    "#\n",
    "# For example:\n",
    "# \n",
    "# John is connected to Bryant, Debra, Walter.John likes to play The Movie: The Game, The Legend of Corgi, Dinosaur Diner.\n",
    "# \n",
    "# Note that each sentence will be separated from the next by only a period. There will \n",
    "# not be whitespace or new lines between sentences.\n",
    "# \n",
    "# Your friend records the information in that string based on user activity on \n",
    "# the website and gives it to you to manage. You can think of every pair of\n",
    "# sentences as defining a user's profile.\n",
    "#\n",
    "# Consider the data structures that we have used in class - lists, dictionaries,\n",
    "# and combinations of the two (e.g. lists of dictionaries). Pick one that\n",
    "# will allow you to manage the data above and implement the procedures below. \n",
    "# \n",
    "# You may assume that <user> is a unique identifier for a user. For example, there\n",
    "# can be at most one 'John' in the network. Furthermore, connections are not \n",
    "# symmetric - if 'Bob' is connected to 'Alice', it does not mean that 'Alice' is\n",
    "# connected to 'Bob'.\n",
    "#\n",
    "# Project Description\n",
    "# ====================\n",
    "# Your task is to complete the procedures according to the specifications below\n",
    "# as well as to implement a Make-Your-Own procedure (MYOP). You are encouraged \n",
    "# to define any additional helper procedures that can assist you in accomplishing \n",
    "# a task. You are encouraged to test your code by using print statements and the \n",
    "# Test Run button. \n",
    "# ----------------------------------------------------------------------------- \n",
    "\n",
    "# Example string input. Use it to test your code.\n",
    "example_input=\"John is connected to Bryant, Debra, Walter.\\\n",
    "John likes to play The Movie: The Game, The Legend of Corgi, Dinosaur Diner.\\\n",
    "Bryant is connected to Olive, Ollie, Freda, Mercedes.\\\n",
    "Bryant likes to play City Comptroller: The Fiscal Dilemma, Super Mushroom Man.\\\n",
    "Mercedes is connected to Walter, Robin, Bryant.\\\n",
    "Mercedes likes to play The Legend of Corgi, Pirates in Java Island, Seahorse Adventures.\\\n",
    "Olive is connected to John, Ollie.\\\n",
    "Olive likes to play The Legend of Corgi, Starfleet Commander.\\\n",
    "Debra is connected to Walter, Levi, Jennie, Robin.\\\n",
    "Debra likes to play Seven Schemers, Pirates in Java Island, Dwarves and Swords.\\\n",
    "Walter is connected to John, Levi, Bryant.\\\n",
    "Walter likes to play Seahorse Adventures, Ninja Hamsters, Super Mushroom Man.\\\n",
    "Levi is connected to Ollie, John, Walter.\\\n",
    "Levi likes to play The Legend of Corgi, Seven Schemers, City Comptroller: The Fiscal Dilemma.\\\n",
    "Ollie is connected to Mercedes, Freda, Bryant.\\\n",
    "Ollie likes to play Call of Arms, Dwarves and Swords, The Movie: The Game.\\\n",
    "Jennie is connected to Levi, John, Freda, Robin.\\\n",
    "Jennie likes to play Super Mushroom Man, Dinosaur Diner, Call of Arms.\\\n",
    "Robin is connected to Ollie.\\\n",
    "Robin likes to play Call of Arms, Dwarves and Swords.\\\n",
    "Freda is connected to Olive, John, Debra.\\\n",
    "Freda likes to play Starfleet Commander, Ninja Hamsters, Seahorse Adventures.\"\n",
    "\n",
    "# ----------------------------------------------------------------------------- \n",
    "# create_data_structure(string_input): \n",
    "#   Parses a block of text (such as the one above) and stores relevant \n",
    "#   information into a data structure. You are free to choose and design any \n",
    "#   data structure you would like to use to manage the information.\n",
    "# \n",
    "# Arguments: \n",
    "#   string_input: block of text containing the network information\n",
    "#\n",
    "#   You may assume that for all the test cases we will use, you will be given the \n",
    "#   connections and games liked for all users listed on the right-hand side of an\n",
    "#   'is connected to' statement. For example, we will not use the string \n",
    "#   \"A is connected to B.A likes to play X, Y, Z.C is connected to A.C likes to play X.\"\n",
    "#   as a test case for create_data_structure because the string does not \n",
    "#   list B's connections or liked games.\n",
    "#   \n",
    "#   The procedure should be able to handle an empty string (the string '') as input, in\n",
    "#   which case it should return a network with no users.\n",
    "# \n",
    "# Return:\n",
    "#   The newly created network data structure\n",
    "\n",
    "'''\n",
    "Generate a network of friends and the games they play.\n",
    "    Keyword arguments:\n",
    "    string_input -- a string containing games and friend data\n",
    "    - remove 'is connected to' and 'likes to play'  \n",
    "'''    \n",
    "\n",
    "def create_data_structure(string_input):\n",
    "    network = {}\n",
    "    if string_input == '':\n",
    "        return network  \n",
    "    connections = []\n",
    "    username = []\n",
    "    games = []\n",
    "    sentences = string_input.split('.')\n",
    "    sentences1 = string_input.split('.')\n",
    "    i = 0\n",
    "    j = 1 \n",
    "\n",
    "    while i < len(sentences) and j < len(sentences1):\n",
    "        associates = sentences[i].split(' is connected to ')\n",
    "        i+=2\n",
    "        connections = associates[-1].split(', ')\n",
    "        username = associates[0]\n",
    "        play = sentences1[j].split(' likes to play ')\n",
    "        j +=2\n",
    "        games= play[-1].split(', ')\n",
    "        network[username] = {\"Friends\":connections,\"Games\":games}\n",
    "    return network\n",
    "\n",
    "\n",
    "\n",
    "# ----------------------------------------------------------------------------- # \n",
    "# Note that the first argument to all procedures below is 'network' This is the #\n",
    "# data structure that you created with your create_data_structure procedure,    #\n",
    "# though it may be modified as you add new users or new connections. Each       #\n",
    "# procedure below will then modify or extract information from 'network'        # \n",
    "# ----------------------------------------------------------------------------- #\n",
    "\n",
    "# ----------------------------------------------------------------------------- \n",
    "# get_connections(network, user): \n",
    "#   Returns a list of all the connections that user has\n",
    "#\n",
    "# Arguments: \n",
    "#   network: the gamer network data structure\n",
    "#   user:    a string containing the name of the user\n",
    "# \n",
    "# Return: \n",
    "#   A list of all connections the user has.\n",
    "#   - If the user has no connections, return an empty list.\n",
    "#   - If the user is not in network, return None.\n",
    "def get_connections(network, user):\n",
    "    if user not in network:\n",
    "        return None\n",
    "    return network[user][\"Friends\"]\n",
    "# ----------------------------------------------------------------------------- \n",
    "# get_games_liked(network, user): \n",
    "#   Returns a list of all the games a user likes\n",
    "#\n",
    "# Arguments: \n",
    "#   network: the gamer network data structure\n",
    "#   user:    a string containing the name of the user\n",
    "# \n",
    "# Return: \n",
    "#   A list of all games the user likes.\n",
    "#   - If the user likes no games, return an empty list.\n",
    "#   - If the user is not in network, return None.\n",
    "def get_games_liked(network,user):\n",
    "    if user not in network:\n",
    "        return None\n",
    "    else:\n",
    "        return network[user][\"Games\"]\n",
    "\n",
    "\n",
    "# ----------------------------------------------------------------------------- \n",
    "# add_connection(network, user_A, user_B): \n",
    "#   Adds a connection from user_A to user_B. Make sure to check that both users \n",
    "#   exist in network.\n",
    "# \n",
    "# Arguments: \n",
    "#   network: the gamer network data structure \n",
    "#   user_A:  a string with the name of the user the connection is from\n",
    "#   user_B:  a string with the name of the user the connection is to\n",
    "#\n",
    "# Return: \n",
    "#   The updated network with the new connection added.\n",
    "#   - If a connection already exists from user_A to user_B, return network unchanged.\n",
    "#   - If user_A or user_B is not in network, return False.\n",
    "def add_connection(network, user_A, user_B):\n",
    "    if user_A not in network:\n",
    "        return False\n",
    "    if user_B not in network:\n",
    "        return False\n",
    "    if user_B not in network[user_A][\"Friends\"]:\n",
    "           network[user_A][\"Friends\"].append(user_B)\n",
    "    return network\n",
    "\n",
    "\n",
    "# ----------------------------------------------------------------------------- \n",
    "# add_new_user(network, user, games): \n",
    "#   Creates a new user profile and adds that user to the network, along with\n",
    "#   any game preferences specified in games. Assume that the user has no \n",
    "#   connections to begin with.\n",
    "# \n",
    "# Arguments:\n",
    "#   network: the gamer network data structure\n",
    "#   user:    a string containing the name of the user to be added to the network\n",
    "#   games:   a list of strings containing the user's favorite games, e.g.:\n",
    "#\t\t     ['Ninja Hamsters', 'Super Mushroom Man', 'Dinosaur Diner']\n",
    "#\n",
    "# Return: \n",
    "#   The updated network with the new user and game preferences added. The new user \n",
    "#   should have no connections.\n",
    "#   - If the user already exists in network, return network *UNCHANGED* (do not change\n",
    "#     the user's game preferences)\n",
    "def add_new_user(network, user, games):\n",
    "    if user in network:\n",
    "        return network\n",
    "    if games == []:\n",
    "        network[user] = {\"Friends\":[],\"Games\":[]}\n",
    "    else:        \n",
    "        if user not in network:\n",
    "            network[user] = {\"Friends\":[],\"Games\":games}\n",
    "\n",
    "    return network\n",
    "\t\t\n",
    "# ----------------------------------------------------------------------------- \n",
    "# get_secondary_connections(network, user): \n",
    "#   Finds all the secondary connections (i.e. connections of connections) of a \n",
    "#   given user.\n",
    "# \n",
    "# Arguments: \n",
    "#   network: the gamer network data structure\n",
    "#   user:    a string containing the name of the user\n",
    "#\n",
    "# Return: \n",
    "#   A list containing the secondary connections (connections of connections).\n",
    "#   - If the user is not in the network, return None.\n",
    "#   - If a user has no primary connections to begin with, return an empty list.\n",
    "# \n",
    "# NOTE: \n",
    "#   It is OK if a user's list of secondary connections includes the user \n",
    "#   himself/herself. It is also OK if the list contains a user's primary \n",
    "#   connection that is a secondary connection as well.\n",
    "def get_secondary_connections(network, user):\n",
    "    connect_of_connect = []\n",
    "    unique = []\n",
    "    if user not in network:\n",
    "        return None\n",
    "    if len(network[user][\"Friends\"]) == 0:  \n",
    "        return []\n",
    "    else:\n",
    "        for friend in network[user][\"Friends\"]:\n",
    "            for person in network[friend][\"Friends\"]:\n",
    "                connect_of_connect.append(person)\n",
    "            for connect in connect_of_connect:\n",
    "                if connect not in unique:\n",
    "                    unique.append(connect)\n",
    "        return unique            \n",
    "        \n",
    "\n",
    "# ----------------------------------------------------------------------------- \t\n",
    "# connections_in_common(network, user_A, user_B): \n",
    "#   Finds the number of people that user_A and user_B have in common.\n",
    "#  \n",
    "# Arguments: \n",
    "#   network: the gamer network data structure\n",
    "#   user_A:  a string containing the name of user_A\n",
    "#   user_B:  a string containing the name of user_B\n",
    "#\n",
    "# Return: \n",
    "#   The number of connections in common (as an integer).\n",
    "#   - If user_A or user_B is not in network, return False.\n",
    "def connections_in_common(network, user_A, user_B):\n",
    "    count = 0\n",
    "    if user_B not in network or user_A not in network:\n",
    "        return False\n",
    "    for i in network[user_A][\"Friends\"]:\n",
    "        for j in network[user_B][\"Friends\"]:\n",
    "            if i in j:\n",
    "                count+=1\n",
    "    return count        \n",
    "\n",
    "\n",
    "# ----------------------------------------------------------------------------- \n",
    "# path_to_friend(network, user_A, user_B): \n",
    "#   Finds a connections path from user_A to user_B. It has to be an existing \n",
    "#   path but it DOES NOT have to be the shortest path.\n",
    "#   \n",
    "# Arguments:\n",
    "#   network: The network you created with create_data_structure. \n",
    "#   user_A:  String holding the starting username (\"Abe\")\n",
    "#   user_B:  String holding the ending username (\"Zed\")\n",
    "# \n",
    "# Return:\n",
    "#   A list showing the path from user_A to user_B.\n",
    "#   - If such a path does not exist, return None.\n",
    "#   - If user_A or user_B is not in network, return None.\n",
    "#\n",
    "# Sample output:\n",
    "#   >>> print path_to_friend(network, \"Abe\", \"Zed\")\n",
    "#   >>> ['Abe', 'Gel', 'Sam', 'Zed']\n",
    "#   This implies that Abe is connected with Gel, who is connected with Sam, \n",
    "#   who is connected with Zed.\n",
    "# \n",
    "# NOTE:\n",
    "#   You must solve this problem using recursion!\n",
    "# \n",
    "# Hints: \n",
    "# - Be careful how you handle connection loops, for example, A is connected to B. \n",
    "#   B is connected to C. C is connected to B. Make sure your code terminates in \n",
    "#   that case.\n",
    "# - If you are comfortable with default parameters, you might consider using one \n",
    "#   in this procedure to keep track of nodes already visited in your search. You \n",
    "#   may safely add default parameters since all calls used in the grading script \n",
    "#   will only include the arguments network, user_A, and user_B.\n",
    "\n",
    "def path_to_friend(network, user, connection, path = None):\n",
    "        if path == None:\n",
    "            path = []\n",
    "        path = path + [user]        \n",
    "        if user not in network or connection not in network or user == connection:\n",
    "            return None\n",
    "\n",
    "        for node in network[user][\"Friends\"]:\n",
    "            if node not in path:\n",
    "                newpath = path_to_friend(network, node, connection, path)\n",
    "                if newpath:\n",
    "                    return newpath\n",
    "        if connection in network[user][\"Friends\"]:\n",
    "            return path + [connection]        \n",
    "\n",
    "        return None\n",
    "    \n",
    "\n",
    "# Make-Your-Own-Procedure (MYOP)\n",
    "# ----------------------------------------------------------------------------- \n",
    "# Your MYOP should either perform some manipulation of your network data \n",
    "# structure (like add_new_user) or it should perform some valuable analysis of \n",
    "# your network (like path_to_friend). Don't forget to comment your MYOP. You \n",
    "# may give this procedure any name you want.\n",
    "\n",
    "# Replace this with your own procedure! You can also uncomment the lines below\n",
    "# to see how your code behaves. Have fun!\n",
    "def connections_not_in_common(network, user_A, user_B):\n",
    "    count = []\n",
    "    result = []\n",
    "    total = []\n",
    "    if user_B not in network or user_A not in network:\n",
    "        return False\n",
    "    for i in network[user_A][\"Friends\"]:\n",
    "       for j in network[user_B][\"Friends\"]:\n",
    "           if i in j:\n",
    "               result.append(i) # lists all the friends in common\n",
    "                \n",
    "    for i in network[user_A][\"Friends\"]:\n",
    "        count.append(i)\n",
    "    for j in network[user_B][\"Friends\"]:\n",
    "        count.append(j) # appends the two lists of friends all together\n",
    "    for person in count:\n",
    "        if person not in result:\n",
    "            total.append(person) #if there are no common friends between the two lists,\n",
    "                                 #appends the ones not on the list to give you the friends not in common.\n",
    "    return total      \n",
    "\n",
    "def top_game(network): #most played game in the network\n",
    "    all_games = []\n",
    "    top_game = []\n",
    "    game_list = []\n",
    "    for user in network:\n",
    "        for game in network[user][\"Games\"]:\n",
    "            all_games.append(game) # getting all the games in a list\n",
    "        for games in all_games:\n",
    "            if games not in game_list: # removing duplicates and keeping \n",
    "                game_list.append(games) # unique values of games for a game list\n",
    "         \n",
    "    for i in game_list:\n",
    "        count = 0\n",
    "        current_count = 0\n",
    "        for e in all_games:\n",
    "            if i == e: # if game is featured in the game list, it will be counted \n",
    "                all_games.count(e)\n",
    "            if all_games.count(e) > current_count: #set to find the game with the highest count\n",
    "                current_count = all_games.count(e) \n",
    "                popular = e # whatever this game is, is the game with the highest count\n",
    "                \n",
    "    return popular    \n",
    "    \n",
    "    "
   ]
  },
  {
   "cell_type": "code",
   "execution_count": 16,
   "metadata": {
    "collapsed": false
   },
   "outputs": [
    {
     "name": "stdout",
     "output_type": "stream",
     "text": [
      "John is connected to Bryant, Debra, Walter.John likes to play The Movie: The Game, The Legend of Corgi, Dinosaur Diner.Bryant is connected to Olive, Ollie, Freda, Mercedes.Bryant likes to play City Comptroller: The Fiscal Dilemma, Super Mushroom Man.Mercedes is connected to Walter, Robin, Bryant.Mercedes likes to play The Legend of Corgi, Pirates in Java Island, Seahorse Adventures.Olive is connected to John, Ollie.Olive likes to play The Legend of Corgi, Starfleet Commander.Debra is connected to Walter, Levi, Jennie, Robin.Debra likes to play Seven Schemers, Pirates in Java Island, Dwarves and Swords.Walter is connected to John, Levi, Bryant.Walter likes to play Seahorse Adventures, Ninja Hamsters, Super Mushroom Man.Levi is connected to Ollie, John, Walter.Levi likes to play The Legend of Corgi, Seven Schemers, City Comptroller: The Fiscal Dilemma.Ollie is connected to Mercedes, Freda, Bryant.Ollie likes to play Call of Arms, Dwarves and Swords, The Movie: The Game.Jennie is connected to Levi, John, Freda, Robin.Jennie likes to play Super Mushroom Man, Dinosaur Diner, Call of Arms.Robin is connected to Ollie.Robin likes to play Call of Arms, Dwarves and Swords.Freda is connected to Olive, John, Debra.Freda likes to play Starfleet Commander, Ninja Hamsters, Seahorse Adventures.\n"
     ]
    }
   ],
   "source": [
    "net = create_data_structure(example_input)\n",
    "print example_input\n",
    "\n",
    "\n"
   ]
  },
  {
   "cell_type": "code",
   "execution_count": 14,
   "metadata": {
    "collapsed": false
   },
   "outputs": [
    {
     "name": "stdout",
     "output_type": "stream",
     "text": [
      "{'Freda': {'Games': ['Starfleet Commander', 'Ninja Hamsters', 'Seahorse Adventures'], 'Friends': ['Olive', 'John', 'Debra']}, 'Ollie': {'Games': ['Call of Arms', 'Dwarves and Swords', 'The Movie: The Game'], 'Friends': ['Mercedes', 'Freda', 'Bryant']}, 'Debra': {'Games': ['Seven Schemers', 'Pirates in Java Island', 'Dwarves and Swords'], 'Friends': ['Walter', 'Levi', 'Jennie', 'Robin']}, 'Olive': {'Games': ['The Legend of Corgi', 'Starfleet Commander'], 'Friends': ['John', 'Ollie']}, 'Levi': {'Games': ['The Legend of Corgi', 'Seven Schemers', 'City Comptroller: The Fiscal Dilemma'], 'Friends': ['Ollie', 'John', 'Walter']}, 'Jennie': {'Games': ['Super Mushroom Man', 'Dinosaur Diner', 'Call of Arms'], 'Friends': ['Levi', 'John', 'Freda', 'Robin']}, 'Mercedes': {'Games': ['The Legend of Corgi', 'Pirates in Java Island', 'Seahorse Adventures'], 'Friends': ['Walter', 'Robin', 'Bryant']}, 'John': {'Games': ['The Movie: The Game', 'The Legend of Corgi', 'Dinosaur Diner'], 'Friends': ['Bryant', 'Debra', 'Walter']}, 'Robin': {'Games': ['Call of Arms', 'Dwarves and Swords'], 'Friends': ['Ollie']}, 'Bryant': {'Games': ['City Comptroller: The Fiscal Dilemma', 'Super Mushroom Man'], 'Friends': ['Olive', 'Ollie', 'Freda', 'Mercedes']}, 'Walter': {'Games': ['Seahorse Adventures', 'Ninja Hamsters', 'Super Mushroom Man'], 'Friends': ['John', 'Levi', 'Bryant']}}\n"
     ]
    }
   ],
   "source": [
    "print net"
   ]
  },
  {
   "cell_type": "code",
   "execution_count": 23,
   "metadata": {
    "collapsed": false
   },
   "outputs": [
    {
     "name": "stdout",
     "output_type": "stream",
     "text": [
      "['John', 'Levi', 'Bryant']\n"
     ]
    }
   ],
   "source": [
    "print get_connections(net, \"Walter\")"
   ]
  },
  {
   "cell_type": "code",
   "execution_count": 17,
   "metadata": {
    "collapsed": false
   },
   "outputs": [
    {
     "name": "stdout",
     "output_type": "stream",
     "text": [
      "['John', 'Bryant', 'Olive', 'Ollie', 'Mercedes', 'Robin']\n"
     ]
    }
   ],
   "source": [
    "print path_to_friend(net, \"John\", \"Robin\")"
   ]
  },
  {
   "cell_type": "code",
   "execution_count": 18,
   "metadata": {
    "collapsed": false
   },
   "outputs": [
    {
     "name": "stdout",
     "output_type": "stream",
     "text": [
      "2\n"
     ]
    }
   ],
   "source": [
    "print connections_in_common(net, \"Jennie\", \"Debra\" )"
   ]
  },
  {
   "cell_type": "code",
   "execution_count": 19,
   "metadata": {
    "collapsed": false
   },
   "outputs": [
    {
     "name": "stdout",
     "output_type": "stream",
     "text": [
      "['Ollie', 'Olive', 'John', 'Debra']\n"
     ]
    }
   ],
   "source": [
    "print connections_not_in_common(net, \"Robin\" , \"Freda\")"
   ]
  },
  {
   "cell_type": "code",
   "execution_count": 20,
   "metadata": {
    "collapsed": false
   },
   "outputs": [
    {
     "name": "stdout",
     "output_type": "stream",
     "text": [
      "The Legend of Corgi\n"
     ]
    }
   ],
   "source": [
    "print top_game(net)"
   ]
  },
  {
   "cell_type": "code",
   "execution_count": 21,
   "metadata": {
    "collapsed": false
   },
   "outputs": [
    {
     "name": "stdout",
     "output_type": "stream",
     "text": [
      "['Bryant', 'Debra', 'Walter', 'Ollie', 'John', 'Olive', 'Freda', 'Mercedes']\n"
     ]
    }
   ],
   "source": [
    "print get_secondary_connections(net, \"Walter\")"
   ]
  },
  {
   "cell_type": "code",
   "execution_count": 22,
   "metadata": {
    "collapsed": false
   },
   "outputs": [
    {
     "name": "stdout",
     "output_type": "stream",
     "text": [
      "['The Movie: The Game', 'The Legend of Corgi', 'Dinosaur Diner']\n"
     ]
    }
   ],
   "source": [
    "print get_games_liked(net, \"John\")"
   ]
  },
  {
   "cell_type": "code",
   "execution_count": 24,
   "metadata": {
    "collapsed": false
   },
   "outputs": [
    {
     "name": "stdout",
     "output_type": "stream",
     "text": [
      "{'Freda': {'Games': ['Starfleet Commander', 'Ninja Hamsters', 'Seahorse Adventures'], 'Friends': ['Olive', 'John', 'Debra']}, 'Ollie': {'Games': ['Call of Arms', 'Dwarves and Swords', 'The Movie: The Game'], 'Friends': ['Mercedes', 'Freda', 'Bryant']}, 'Debra': {'Games': ['Seven Schemers', 'Pirates in Java Island', 'Dwarves and Swords'], 'Friends': ['Walter', 'Levi', 'Jennie', 'Robin']}, 'Olive': {'Games': ['The Legend of Corgi', 'Starfleet Commander'], 'Friends': ['John', 'Ollie']}, 'Levi': {'Games': ['The Legend of Corgi', 'Seven Schemers', 'City Comptroller: The Fiscal Dilemma'], 'Friends': ['Ollie', 'John', 'Walter']}, 'Jennie': {'Games': ['Super Mushroom Man', 'Dinosaur Diner', 'Call of Arms'], 'Friends': ['Levi', 'John', 'Freda', 'Robin']}, 'Mercedes': {'Games': ['The Legend of Corgi', 'Pirates in Java Island', 'Seahorse Adventures'], 'Friends': ['Walter', 'Robin', 'Bryant']}, 'John': {'Games': ['The Movie: The Game', 'The Legend of Corgi', 'Dinosaur Diner'], 'Friends': ['Bryant', 'Debra', 'Walter']}, 'Robin': {'Games': ['Call of Arms', 'Dwarves and Swords'], 'Friends': ['Ollie', 'Freda']}, 'Bryant': {'Games': ['City Comptroller: The Fiscal Dilemma', 'Super Mushroom Man'], 'Friends': ['Olive', 'Ollie', 'Freda', 'Mercedes']}, 'Walter': {'Games': ['Seahorse Adventures', 'Ninja Hamsters', 'Super Mushroom Man'], 'Friends': ['John', 'Levi', 'Bryant']}}\n"
     ]
    }
   ],
   "source": [
    "print add_connection(net, \"Robin\", \"Freda\")"
   ]
  },
  {
   "cell_type": "code",
   "execution_count": 25,
   "metadata": {
    "collapsed": false
   },
   "outputs": [
    {
     "name": "stdout",
     "output_type": "stream",
     "text": [
      "{'Freda': {'Games': ['Starfleet Commander', 'Ninja Hamsters', 'Seahorse Adventures'], 'Friends': ['Olive', 'John', 'Debra']}, 'Ollie': {'Games': ['Call of Arms', 'Dwarves and Swords', 'The Movie: The Game'], 'Friends': ['Mercedes', 'Freda', 'Bryant']}, 'Alice': {'Games': [], 'Friends': []}, 'Debra': {'Games': ['Seven Schemers', 'Pirates in Java Island', 'Dwarves and Swords'], 'Friends': ['Walter', 'Levi', 'Jennie', 'Robin']}, 'Olive': {'Games': ['The Legend of Corgi', 'Starfleet Commander'], 'Friends': ['John', 'Ollie']}, 'Levi': {'Games': ['The Legend of Corgi', 'Seven Schemers', 'City Comptroller: The Fiscal Dilemma'], 'Friends': ['Ollie', 'John', 'Walter']}, 'Jennie': {'Games': ['Super Mushroom Man', 'Dinosaur Diner', 'Call of Arms'], 'Friends': ['Levi', 'John', 'Freda', 'Robin']}, 'Mercedes': {'Games': ['The Legend of Corgi', 'Pirates in Java Island', 'Seahorse Adventures'], 'Friends': ['Walter', 'Robin', 'Bryant']}, 'John': {'Games': ['The Movie: The Game', 'The Legend of Corgi', 'Dinosaur Diner'], 'Friends': ['Bryant', 'Debra', 'Walter']}, 'Robin': {'Games': ['Call of Arms', 'Dwarves and Swords'], 'Friends': ['Ollie', 'Freda']}, 'Bryant': {'Games': ['City Comptroller: The Fiscal Dilemma', 'Super Mushroom Man'], 'Friends': ['Olive', 'Ollie', 'Freda', 'Mercedes']}, 'Walter': {'Games': ['Seahorse Adventures', 'Ninja Hamsters', 'Super Mushroom Man'], 'Friends': ['John', 'Levi', 'Bryant']}}\n"
     ]
    }
   ],
   "source": [
    "print add_new_user(net,'Alice',[])"
   ]
  }
 ],
 "metadata": {
  "kernelspec": {
   "display_name": "Python 2",
   "language": "python",
   "name": "python2"
  },
  "language_info": {
   "codemirror_mode": {
    "name": "ipython",
    "version": 2
   },
   "file_extension": ".py",
   "mimetype": "text/x-python",
   "name": "python",
   "nbconvert_exporter": "python",
   "pygments_lexer": "ipython2",
   "version": "2.7.11"
  }
 },
 "nbformat": 4,
 "nbformat_minor": 0
}
