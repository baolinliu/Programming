{
 "cells": [
  {
   "cell_type": "code",
   "execution_count": 1,
   "metadata": {
    "collapsed": false
   },
   "outputs": [],
   "source": [
    "from __future__ import division\n",
    "import pandas as pd\n",
    "import numpy as np\n",
    "from sklearn.feature_extraction.text import CountVectorizer\n",
    "from sklearn.feature_extraction.text import TfidfVectorizer\n",
    "from collections import Counter\n",
    "import nltk\n",
    "import re\n",
    "from textblob import TextBlob\n",
    "from polyglot.text import Text\n",
    "from sklearn.naive_bayes import MultinomialNB\n",
    "from nltk.corpus import stopwords\n",
    "import matplotlib.pyplot as plt\n",
    "from sklearn.linear_model import LogisticRegression\n",
    "from sklearn.cross_validation import train_test_split\n",
    "from sklearn.metrics import f1_score, recall_score,precision_score , confusion_matrix, roc_curve, auc\n",
    "from sklearn.metrics.pairwise import cosine_similarity\n",
    "from sklearn.cross_validation import KFold\n",
    "from sklearn.decomposition import NMF, LatentDirichletAllocation\n",
    "from sklearn.linear_model import SGDClassifier\n",
    "%matplotlib inline "
   ]
  },
  {
   "cell_type": "markdown",
   "metadata": {},
   "source": [
    "# Sentiment Analysis of Epinions of Ford car purchases\n",
    "\n",
    "## Overview\n",
    "\n",
    "# Goal:\n",
    "\n",
    "- To understand how people people feel about ford vehicles.  \n",
    "- Accuracy classify positive and negative epinions against the test set.\n",
    "\n",
    "### Dataset:\n",
    "\n",
    "A dataset that contains 1382 posts from Epinions.com hand tagged as Pos and Neg.\n",
    "\n",
    "### What specific munging issues do you have to address (e.g., encoding, missing data, or data to exclude)?\n",
    "\n",
    "The previous dataset I was using, the data was not structurally organized.  There were lots of issues with unicode which interfered with data analysis.  There was quite a bit of clean to be done and I read a document called working with text in pandas.  This new data is clean and much easier to work with.  \n",
    "\n",
    "### Tokenization\n",
    "\n",
    "I used the nltk tokenizer and it didn't is two words. I combined all the files in a big bag of words and I used that to do frequency counts.  I used the stopword function. \n",
    "\n",
    "### Normalization\n",
    "\n",
    "I used a stemmer(snowball) to do the stemming.\n",
    "\n",
    "### Tagging\n",
    "I used pos tagging, but I am not sure what to do with that knowledge.\n",
    "\n",
    "### Topic Modeling\n",
    "\n",
    "I thought the topics that were generate were a little bit redundant.  I had a difficult time creating a topic based on the words.  \n",
    "\n",
    "### Predictive Model\n",
    "\n",
    "I chose to use Logisistic because it was a binary problem. I received the best predictions with it, and it is fast, easy to understand, and it directly predicts the probability.  I think that gave me the edge over Naive Bayes.\n",
    "\n",
    "\n",
    "### Validation\n",
    "\n",
    "I did a train/test split and a K-Folds 20 times to see the consistency of the model prodictions.  \n",
    "\n",
    "### Scoring\n",
    "\n",
    "I used F1, Precision, and Recall to score the results.  I also have an ROC curve\n",
    "\n",
    "### Ensemble and/or Boosted Models: \n",
    "\n",
    "I tried the SGDClassifier which produced very good results, but I chose to stick with LR because it is fast and comparatively simple compared a gradient.  "
   ]
  },
  {
   "cell_type": "code",
   "execution_count": 2,
   "metadata": {
    "collapsed": false
   },
   "outputs": [],
   "source": [
    "import pandas as pd\n",
    "\n",
    "epinions = pd.read_csv(\"epinions-likeford.csv\")\n"
   ]
  },
  {
   "cell_type": "code",
   "execution_count": 3,
   "metadata": {
    "collapsed": false
   },
   "outputs": [
    {
     "data": {
      "text/html": [
       "<div>\n",
       "<table border=\"1\" class=\"dataframe\">\n",
       "  <thead>\n",
       "    <tr style=\"text-align: right;\">\n",
       "      <th></th>\n",
       "      <th>class</th>\n",
       "      <th>text</th>\n",
       "    </tr>\n",
       "  </thead>\n",
       "  <tbody>\n",
       "    <tr>\n",
       "      <th>0</th>\n",
       "      <td>Neg</td>\n",
       "      <td>In 1992 we bought a new Taurus and we really ...</td>\n",
       "    </tr>\n",
       "    <tr>\n",
       "      <th>1</th>\n",
       "      <td>Neg</td>\n",
       "      <td>The last business trip  I drove to San Franci...</td>\n",
       "    </tr>\n",
       "    <tr>\n",
       "      <th>2</th>\n",
       "      <td>Neg</td>\n",
       "      <td>My husband and I purchased a 1990 Ford F250 a...</td>\n",
       "    </tr>\n",
       "    <tr>\n",
       "      <th>3</th>\n",
       "      <td>Neg</td>\n",
       "      <td>I feel I have a thorough opinion of this truc...</td>\n",
       "    </tr>\n",
       "    <tr>\n",
       "      <th>4</th>\n",
       "      <td>Neg</td>\n",
       "      <td>AS a mother of 3  all of whom are still in ca...</td>\n",
       "    </tr>\n",
       "  </tbody>\n",
       "</table>\n",
       "</div>"
      ],
      "text/plain": [
       "  class                                               text\n",
       "0   Neg   In 1992 we bought a new Taurus and we really ...\n",
       "1   Neg   The last business trip  I drove to San Franci...\n",
       "2   Neg   My husband and I purchased a 1990 Ford F250 a...\n",
       "3   Neg   I feel I have a thorough opinion of this truc...\n",
       "4   Neg   AS a mother of 3  all of whom are still in ca..."
      ]
     },
     "execution_count": 3,
     "metadata": {},
     "output_type": "execute_result"
    }
   ],
   "source": [
    "epinions.head()"
   ]
  },
  {
   "cell_type": "markdown",
   "metadata": {},
   "source": [
    "#Negative Example"
   ]
  },
  {
   "cell_type": "markdown",
   "metadata": {},
   "source": [
    "' In 1992 we bought a new Taurus and we really loved it  So in 1999 we decided to try a new Taurus  I did not care for the style of the newer version  but bought it anyway **I do not like the new car half as much as i liked our other one ** Thee dash is much to deep and takes up a lot of room  **I do not find the seats as comfortable** and the way the sides stick out further than the strip that should protect your card from denting It drives nice and has good pick up  But you can not see the hood at all from the driver seat and judging and parking is difficult  It has a very small gas tank I would not buy a Taurus if I had it to do over  **I would rather have my 1992 back**  I don t think the style is as nice as the the 1992  and it was a **mistake** to change the style  In less than a month we had a dead battery and a flat tire"
   ]
  },
  {
   "cell_type": "markdown",
   "metadata": {},
   "source": [
    "#Positive Example"
   ]
  },
  {
   "cell_type": "markdown",
   "metadata": {},
   "source": [
    "'This car was really different when I looked inside the window and saw the inside and saw how **spacious** it was for a small car so I said to myself they probably want alot for this car I looked at the ticket price and said I have to have this car  quot this is in my budget. **I love the roomy interior** and easy the controls are to reach The way the seats feel is very comfortable I m not to found of the lumbar when it is lowered too low it leaves a big space it needs a little more horsepower though. **It rides nicely** on the streets but rough going up a steep hill it s very comforting driving a long ride when the seat is up it makes you feel on the same level of a  quot SUV quot  **This is certainly a great economical car** I think anybody who is looking for a small **affordable** car with a midsize car feel once you sit inside you will love the car br br  '"
   ]
  },
  {
   "cell_type": "code",
   "execution_count": 4,
   "metadata": {
    "collapsed": false
   },
   "outputs": [
    {
     "data": {
      "text/plain": [
       "(1382, 2)"
      ]
     },
     "execution_count": 4,
     "metadata": {},
     "output_type": "execute_result"
    }
   ],
   "source": [
    "epinions.shape"
   ]
  },
  {
   "cell_type": "code",
   "execution_count": 5,
   "metadata": {
    "collapsed": false
   },
   "outputs": [],
   "source": [
    "classes = pd.Series(epinions['text'])\n",
    "bag_of_words = reduce(lambda a,b:a+b,classes) #Lee Murphy helped me on this one\n",
    "bag_of_words = bag_of_words.lower()\n",
    "bag_of_words =bag_of_words.replace(\"br\",'')\n",
    "tokens = nltk.word_tokenize(bag_of_words)"
   ]
  },
  {
   "cell_type": "code",
   "execution_count": 6,
   "metadata": {
    "collapsed": false
   },
   "outputs": [],
   "source": [
    "Text = Text(bag_of_words)"
   ]
  },
  {
   "cell_type": "code",
   "execution_count": 7,
   "metadata": {
    "collapsed": false
   },
   "outputs": [],
   "source": [
    "Words = Text.words"
   ]
  },
  {
   "cell_type": "code",
   "execution_count": 8,
   "metadata": {
    "collapsed": true
   },
   "outputs": [],
   "source": [
    "Words = set(Words) #refactor, used a for loop and append if not statement, easy and time efficient"
   ]
  },
  {
   "cell_type": "code",
   "execution_count": 9,
   "metadata": {
    "collapsed": true
   },
   "outputs": [],
   "source": [
    "Negative = []\n",
    "Positive = []\n",
    "Neutral = []\n",
    "\n",
    "for w in Words:\n",
    "    if w.polarity == 0:\n",
    "        Neutral.append((w,w.polarity))\n",
    "    if w.polarity == 1:\n",
    "        Positive.append((w,w.polarity))\n",
    "    if w.polarity == -1:\n",
    "        Negative.append((w,w.polarity))\n"
   ]
  },
  {
   "cell_type": "code",
   "execution_count": 10,
   "metadata": {
    "collapsed": false
   },
   "outputs": [
    {
     "data": {
      "text/plain": [
       "[(u'objection', -1),\n",
       " (u'immature', -1),\n",
       " (u'sinking', -1),\n",
       " (u'inclement', -1),\n",
       " (u'uncertain', -1),\n",
       " (u'deter', -1),\n",
       " (u'grainy', -1),\n",
       " (u'loathing', -1),\n",
       " (u'errors', -1),\n",
       " (u'aggression', -1),\n",
       " (u'error', -1),\n",
       " (u'unfriendly', -1),\n",
       " (u'controversy', -1),\n",
       " (u'spotty', -1),\n",
       " (u'criticism', -1),\n",
       " (u'stern', -1),\n",
       " (u'strike', -1),\n",
       " (u'hurt', -1),\n",
       " (u'complaining', -1),\n",
       " (u'damage', -1),\n",
       " (u'wrong', -1),\n",
       " (u'carelessness', -1),\n",
       " (u'dumps', -1),\n",
       " (u'touts', -1),\n",
       " (u'stereotypical', -1)]"
      ]
     },
     "execution_count": 10,
     "metadata": {},
     "output_type": "execute_result"
    }
   ],
   "source": [
    "Negative[:25]"
   ]
  },
  {
   "cell_type": "code",
   "execution_count": 11,
   "metadata": {
    "collapsed": false
   },
   "outputs": [
    {
     "data": {
      "text/plain": [
       "[(u'wholeheartedly', 1),\n",
       " (u'prize', 1),\n",
       " (u'bonuses', 1),\n",
       " (u'holy', 1),\n",
       " (u'successful', 1),\n",
       " (u'preferably', 1),\n",
       " (u'hot', 1),\n",
       " (u'preferable', 1),\n",
       " (u'beauty', 1),\n",
       " (u'effective', 1),\n",
       " (u'wins', 1),\n",
       " (u'fidelity', 1),\n",
       " (u'admirably', 1),\n",
       " (u'admirable', 1),\n",
       " (u'easier', 1),\n",
       " (u'encourage', 1),\n",
       " (u'tempting', 1),\n",
       " (u'playfully', 1),\n",
       " (u'master', 1),\n",
       " (u'elegant', 1),\n",
       " (u'acclaim', 1),\n",
       " (u'willingness', 1),\n",
       " (u'achievement', 1),\n",
       " (u'eagerly', 1),\n",
       " (u'recommended', 1)]"
      ]
     },
     "execution_count": 11,
     "metadata": {},
     "output_type": "execute_result"
    }
   ],
   "source": [
    "Positive[:25]"
   ]
  },
  {
   "cell_type": "code",
   "execution_count": 12,
   "metadata": {
    "collapsed": false
   },
   "outputs": [
    {
     "data": {
      "text/plain": [
       "[(u'raining', 0),\n",
       " (u'yellow', 0),\n",
       " (u'cactuses', 0),\n",
       " (u'four', 0),\n",
       " (u'rocketing', 0),\n",
       " (u'woods', 0),\n",
       " (u'hanging', 0),\n",
       " (u'woody', 0),\n",
       " (u'genre', 0),\n",
       " (u'adjustors', 0),\n",
       " (u'6ft1', 0),\n",
       " (u'localized', 0),\n",
       " (u'payoff', 0),\n",
       " (u'increase', 0),\n",
       " (u'unblocked', 0),\n",
       " (u'eligible', 0),\n",
       " (u'electricity', 0),\n",
       " (u'16420', 0),\n",
       " (u'clonked', 0),\n",
       " (u'wheeled', 0),\n",
       " (u'30m', 0),\n",
       " (u'sputter', 0),\n",
       " (u'lord', 0),\n",
       " (u'xtl', 0),\n",
       " (u'digit', 0)]"
      ]
     },
     "execution_count": 12,
     "metadata": {},
     "output_type": "execute_result"
    }
   ],
   "source": [
    "Neutral[:25]"
   ]
  },
  {
   "cell_type": "code",
   "execution_count": 13,
   "metadata": {
    "collapsed": true
   },
   "outputs": [],
   "source": [
    "stop = stopwords.words('english')"
   ]
  },
  {
   "cell_type": "code",
   "execution_count": 14,
   "metadata": {
    "collapsed": true
   },
   "outputs": [],
   "source": [
    "no_stop_words = [i for i in tokens if i not in stop]"
   ]
  },
  {
   "cell_type": "code",
   "execution_count": 15,
   "metadata": {
    "collapsed": false
   },
   "outputs": [],
   "source": [
    "from nltk import stem\n",
    "\n",
    "snowball = stem.snowball.EnglishStemmer()\n",
    "\n",
    "stem = [snowball.stem(i) for i in no_stop_words]\n",
    "# Stemming words"
   ]
  },
  {
   "cell_type": "code",
   "execution_count": 16,
   "metadata": {
    "collapsed": true
   },
   "outputs": [],
   "source": [
    "textblob = TextBlob(str(stem))"
   ]
  },
  {
   "cell_type": "code",
   "execution_count": 17,
   "metadata": {
    "collapsed": false
   },
   "outputs": [],
   "source": [
    "words = textblob.words"
   ]
  },
  {
   "cell_type": "code",
   "execution_count": 18,
   "metadata": {
    "collapsed": true
   },
   "outputs": [],
   "source": [
    "words = set(words)"
   ]
  },
  {
   "cell_type": "code",
   "execution_count": 19,
   "metadata": {
    "collapsed": false
   },
   "outputs": [],
   "source": [
    "#plyglot, their polarity was only a -1 , 0, or 1 which doesn't tell me much beyond that\n",
    "#TextBlob's NaiveBayes analyzer didn't predict very well, usually too positive.\n",
    "\n",
    "sentiment = []\n",
    "for w in words:\n",
    "    text = TextBlob(w)\n",
    "    \n",
    "    sentiment.append((w, text.sentiment.polarity))"
   ]
  },
  {
   "cell_type": "code",
   "execution_count": 20,
   "metadata": {
    "collapsed": false
   },
   "outputs": [
    {
     "data": {
      "text/plain": [
       "[(\"u'worst\", -1.0),\n",
       " (\"u'evil\", -1.0),\n",
       " (\"u'idiot\", -0.8),\n",
       " (\"u'crap\", -0.8),\n",
       " (\"u'hate\", -0.8),\n",
       " (\"u'grief\", -0.8),\n",
       " (\"u'worthless\", -0.8),\n",
       " (\"u'violent\", -0.8),\n",
       " (\"u'moron\", -0.8),\n",
       " (\"u'base\", -0.8),\n",
       " (\"u'rank\", -0.8),\n",
       " (\"u'stupid\", -0.7999999999999999),\n",
       " (\"u'tragic\", -0.75),\n",
       " (\"u'sick\", -0.7142857142857143),\n",
       " (\"u'anger\", -0.7),\n",
       " (\"u'grrr\", -0.7),\n",
       " (\"u'crude\", -0.7),\n",
       " (\"u'grrrr\", -0.7),\n",
       " (\"u'grr\", -0.7),\n",
       " (\"u'bad\", -0.6999999999999998),\n",
       " (\"u'mad\", -0.625),\n",
       " (\"u'cold\", -0.6),\n",
       " (\"u'haphazard\", -0.6),\n",
       " (\"u'numb\", -0.6),\n",
       " (\"u'awkward\", -0.6),\n",
       " (\"u'chicken\", -0.6),\n",
       " (\"u'afraid\", -0.6),\n",
       " (\"u'meager\", -0.6),\n",
       " (\"u'casual\", -0.5000000000000001),\n",
       " (\"u'meaningless\", -0.5)]"
      ]
     },
     "execution_count": 20,
     "metadata": {},
     "output_type": "execute_result"
    }
   ],
   "source": [
    "negative_polarity = sorted(sentiment , key = lambda t: t[1])\n",
    "negative_polarity[:30]\n",
    "\n",
    "###Ranked by polarity , no neutral"
   ]
  },
  {
   "cell_type": "code",
   "execution_count": 21,
   "metadata": {
    "collapsed": false
   },
   "outputs": [
    {
     "data": {
      "text/plain": [
       "[(\"u'perfect\", 1.0),\n",
       " (\"u'faultless\", 1.0),\n",
       " (\"u'flawless\", 1.0),\n",
       " (\"u'superb\", 1.0),\n",
       " (\"u'greatest\", 1.0),\n",
       " (\"u'priceless\", 1.0),\n",
       " (\"u'best\", 1.0),\n",
       " (\"u'ideal\", 0.9),\n",
       " (\"u'elect\", 0.8),\n",
       " (\"u'proud\", 0.8),\n",
       " (\"u'great\", 0.8),\n",
       " (\"u'lol\", 0.8),\n",
       " (\"u'uncommon\", 0.8),\n",
       " (\"u'win\", 0.8),\n",
       " (\"u'joy\", 0.8),\n",
       " (\"u'pleasant\", 0.7333333333333333),\n",
       " (\"u'wise\", 0.7),\n",
       " (\"u'superior\", 0.7),\n",
       " (\"u'skittish\", 0.7),\n",
       " (\"u'gorgeous\", 0.7),\n",
       " (\"u'good\", 0.7),\n",
       " (\"u'fair\", 0.7),\n",
       " (\"u'apt\", 0.6),\n",
       " (\"u'popular\", 0.6),\n",
       " (\"u'warm\", 0.6),\n",
       " (\"u'rose\", 0.6),\n",
       " (\"u'spectacular\", 0.6),\n",
       " (\"u'courteous\", 0.6),\n",
       " (\"u'honest\", 0.6),\n",
       " (\"u'nice\", 0.6)]"
      ]
     },
     "execution_count": 21,
     "metadata": {},
     "output_type": "execute_result"
    }
   ],
   "source": [
    "positive_polarity = sorted(sentiment , key = lambda t: t[1], reverse = True)\n",
    "positive_polarity[:30]"
   ]
  },
  {
   "cell_type": "code",
   "execution_count": 22,
   "metadata": {
    "collapsed": true
   },
   "outputs": [],
   "source": [
    "NER = Text.entities"
   ]
  },
  {
   "cell_type": "code",
   "execution_count": 23,
   "metadata": {
    "collapsed": true
   },
   "outputs": [],
   "source": [
    "d = {'I-PER':[],'I-LOC':[],'I-ORG':[]}\n",
    "\n",
    "for entity in NER:\n",
    "    if entity.tag == \"I-PER\":\n",
    "        d['I-PER'].append(str(entity))\n",
    "    if entity.tag == 'I-LOC':\n",
    "        d['I-LOC'].append(str(entity))\n",
    "    if entity.tag == 'I-ORG':\n",
    "        d['I-ORG'].append(str(entity)) "
   ]
  },
  {
   "cell_type": "code",
   "execution_count": 24,
   "metadata": {
    "collapsed": true
   },
   "outputs": [],
   "source": [
    "\n",
    "d['I-PER'] = Counter(d['I-PER']).most_common(20)\n",
    "d['I-LOC'] = Counter(d['I-LOC']).most_common(20)\n",
    "d['I-ORG'] = Counter(d['I-ORG']).most_common(20)"
   ]
  },
  {
   "cell_type": "code",
   "execution_count": 25,
   "metadata": {
    "collapsed": true
   },
   "outputs": [],
   "source": [
    "\n",
    "Org_numbers = [d['I-ORG'][i][1] for i in range(len(d['I-ORG']))]\n",
    "Org_values = [d['I-ORG'][i][0] for i in range(len(d['I-ORG']))]"
   ]
  },
  {
   "cell_type": "code",
   "execution_count": 26,
   "metadata": {
    "collapsed": false
   },
   "outputs": [
    {
     "data": {
      "image/png": "[encoded data removed]",
      "text/plain": [
       "<matplotlib.figure.Figure at 0x133859450>"
      ]
     },
     "metadata": {},
     "output_type": "display_data"
    }
   ],
   "source": [
    "plt.figure(figsize=(20,10))\n",
    "plt.bar(range(len(Org_numbers)), Org_numbers)\n",
    "plt.xticks(range(len(Org_values)), Org_values, size = 20 , rotation=45)\n",
    "plt.yticks(size = 20)\n",
    "plt.show()"
   ]
  },
  {
   "cell_type": "markdown",
   "metadata": {},
   "source": [
    "# Most common organization listed was toyota and honda. People were constantly comparing their ford to toyota and honda.\n",
    "# \"after a few years of driving my teeny tiny Toyota Tercel so I was thrilled to get my brother s Explorer\"¶\n",
    "# \"My opinion of this car is that it is a complete piece of junk Avoid at all costs spend some extra money and buy a Honda or Toyota\""
   ]
  },
  {
   "cell_type": "code",
   "execution_count": 27,
   "metadata": {
    "collapsed": false
   },
   "outputs": [],
   "source": [
    "x = epinions[\"text\"]\n",
    "y = epinions['class'] ==\"Pos\""
   ]
  },
  {
   "cell_type": "code",
   "execution_count": 28,
   "metadata": {
    "collapsed": false
   },
   "outputs": [],
   "source": [
    "vec=CountVectorizer(stop_words='english',analyzer='word')"
   ]
  },
  {
   "cell_type": "code",
   "execution_count": 29,
   "metadata": {
    "collapsed": false
   },
   "outputs": [],
   "source": [
    "X_train_counts = vec.fit_transform(x)"
   ]
  },
  {
   "cell_type": "code",
   "execution_count": 30,
   "metadata": {
    "collapsed": false
   },
   "outputs": [
    {
     "name": "stdout",
     "output_type": "stream",
     "text": [
      "0.803468208092\n"
     ]
    }
   ],
   "source": [
    "X_train, X_test , y_train, y_test = train_test_split(X_train_counts,y)\n",
    "clf = LogisticRegression().fit(X_train, y_train)\n",
    "predict =clf.predict(X_test)\n",
    "print clf.score(X_test,y_test)"
   ]
  },
  {
   "cell_type": "code",
   "execution_count": 31,
   "metadata": {
    "collapsed": false
   },
   "outputs": [
    {
     "name": "stdout",
     "output_type": "stream",
     "text": [
      "Confusion matrix, without normalization\n",
      "[[137  40]\n",
      " [ 28 141]]\n"
     ]
    },
    {
     "name": "stderr",
     "output_type": "stream",
     "text": [
      "/Users/user/anaconda/lib/python2.7/site-packages/matplotlib/collections.py:590: FutureWarning: elementwise comparison failed; returning scalar instead, but in the future will perform elementwise comparison\n",
      "  if self._edgecolors == str('face'):\n"
     ]
    },
    {
     "data": {
      "image/png": "[encoded data removed]",
      "text/plain": [
       "<matplotlib.figure.Figure at 0x132d7ac50>"
      ]
     },
     "metadata": {},
     "output_type": "display_data"
    }
   ],
   "source": [
    "def plot_confusion_matrix(cm, title='Confusion matrix', cmap=plt.cm.Blues):\n",
    "    plt.imshow(cm, interpolation='nearest', cmap=cmap)\n",
    "    plt.title(title)\n",
    "    plt.colorbar()\n",
    "    plt.tight_layout()\n",
    "    plt.ylabel('True label')\n",
    "    plt.xlabel('Predicted label')\n",
    "\n",
    "\n",
    "# Compute confusion matrix\n",
    "cm = confusion_matrix(y_test, predict)\n",
    "np.set_printoptions(precision=2)\n",
    "print('Confusion matrix, without normalization')\n",
    "print(cm)\n",
    "plt.figure()\n",
    "plot_confusion_matrix(cm)\n",
    "\n",
    "plt.show()"
   ]
  },
  {
   "cell_type": "code",
   "execution_count": 32,
   "metadata": {
    "collapsed": false
   },
   "outputs": [
    {
     "name": "stdout",
     "output_type": "stream",
     "text": [
      "ROC AUC: 0.87\n"
     ]
    },
    {
     "data": {
      "image/png": "[encoded data removed]",
      "text/plain": [
       "<matplotlib.figure.Figure at 0x1328e42d0>"
      ]
     },
     "metadata": {},
     "output_type": "display_data"
    }
   ],
   "source": [
    "probabilities = clf.predict_proba(X_test)[:, 1]\n",
    "\n",
    "fpr,tpr,threshold = roc_curve(y_test,probabilities)\n",
    "roc_auc = auc(fpr, tpr)\n",
    "print \"ROC AUC: %0.2f\" % roc_auc\n",
    "\n",
    "plt.plot(fpr, tpr, label='ROC curve (area = %0.2f)' % roc_auc)\n",
    "plt.xlabel(\"False Positive Rate (1 - Specificity)\")\n",
    "plt.ylabel(\"True Positive Rate (Sensitivity, Recall)\")\n",
    "plt.plot([0, 1], [0, 1], 'k--')\n",
    "plt.title(\"ROC plot\")\n",
    "plt.show()"
   ]
  },
  {
   "cell_type": "code",
   "execution_count": 33,
   "metadata": {
    "collapsed": false
   },
   "outputs": [],
   "source": [
    "kf = KFold(X_train_counts.shape[0], n_folds = 20, shuffle = True)\n",
    "F1 = []\n",
    "Acc = []\n",
    "\n",
    "#pre = tp/(tp+fp)\n",
    "#recall = tp/()\n",
    "\n",
    "for train_index, test_index in kf:\n",
    "    X_train, X_test = X_train_counts[train_index],X_train_counts[test_index]\n",
    "    y_train, y_test = y[train_index],y[test_index]\n",
    "    \n",
    "    clf =MultinomialNB().fit(X_train, y_train)\n",
    "    predict =clf.predict(X_test)\n",
    "    Acc.append(clf.score(X_test,y_test))\n",
    "    F1.append(f1_score(y_test,predict))"
   ]
  },
  {
   "cell_type": "code",
   "execution_count": 34,
   "metadata": {
    "collapsed": false
   },
   "outputs": [
    {
     "data": {
      "image/png": "[encoded data removed]",
      "text/plain": [
       "<matplotlib.figure.Figure at 0x1361a8390>"
      ]
     },
     "metadata": {},
     "output_type": "display_data"
    }
   ],
   "source": [
    "plt.plot(range(len(Acc)),Acc , marker = 'o', markersize = 5)\n",
    "plt.xlabel(\"KFolds\" , size = 15)\n",
    "plt.ylabel(\"Percent\", size = 15)\n",
    "plt.ylim(0.5,1)\n",
    "plt.title(\"KFold Validation with Logistic Regression\", size = 15)\n",
    "plt.show()"
   ]
  },
  {
   "cell_type": "code",
   "execution_count": 35,
   "metadata": {
    "collapsed": false
   },
   "outputs": [
    {
     "name": "stdout",
     "output_type": "stream",
     "text": [
      "0.77632505176\n"
     ]
    }
   ],
   "source": [
    "print np.mean(Acc)"
   ]
  },
  {
   "cell_type": "code",
   "execution_count": 36,
   "metadata": {
    "collapsed": false
   },
   "outputs": [
    {
     "name": "stdout",
     "output_type": "stream",
     "text": [
      "0.751445086705\n"
     ]
    }
   ],
   "source": [
    "X_train, X_test , y_train, y_test = train_test_split(X_train_counts,y)\n",
    "clf = SGDClassifier().fit(X_train, y_train)\n",
    "predict =clf.predict(X_test)\n",
    "print clf.score(X_test,y_test)"
   ]
  },
  {
   "cell_type": "code",
   "execution_count": 37,
   "metadata": {
    "collapsed": false
   },
   "outputs": [
    {
     "name": "stdout",
     "output_type": "stream",
     "text": [
      "Confusion matrix, without normalization\n",
      "[[140  31]\n",
      " [ 55 120]]\n"
     ]
    },
    {
     "data": {
      "image/png": "[encoded data removed]",
      "text/plain": [
       "<matplotlib.figure.Figure at 0x1320fd610>"
      ]
     },
     "metadata": {},
     "output_type": "display_data"
    }
   ],
   "source": [
    "def plot_confusion_matrix(cm, title='Confusion matrix', cmap=plt.cm.Blues):\n",
    "    plt.imshow(cm, interpolation='nearest', cmap=cmap)\n",
    "    plt.title(title)\n",
    "    plt.colorbar()\n",
    "    plt.tight_layout()\n",
    "    plt.ylabel('True label')\n",
    "    plt.xlabel('Predicted label')\n",
    "\n",
    "\n",
    "# Compute confusion matrix\n",
    "cm = confusion_matrix(y_test, predict)\n",
    "np.set_printoptions(precision=2)\n",
    "print('Confusion matrix, without normalization')\n",
    "print(cm)\n",
    "plt.figure()\n",
    "plot_confusion_matrix(cm)\n",
    "\n",
    "plt.show()"
   ]
  },
  {
   "cell_type": "markdown",
   "metadata": {},
   "source": [
    "#Topic Modeling"
   ]
  },
  {
   "cell_type": "code",
   "execution_count": 38,
   "metadata": {
    "collapsed": false
   },
   "outputs": [
    {
     "data": {
      "text/plain": [
       "NMF(alpha=0.0, beta=1, eta=0.1, init=None, l1_ratio=0.0, max_iter=200,\n",
       "  n_components=5, nls_max_iter=2000, random_state=1, shuffle=False,\n",
       "  solver='cd', sparseness=None, tol=0.0001, verbose=0)"
      ]
     },
     "execution_count": 38,
     "metadata": {},
     "output_type": "execute_result"
    }
   ],
   "source": [
    "vocab = vec.get_feature_names()\n",
    "nmf = NMF(n_components = 5, random_state = 1)\n",
    "nmf.fit(X_train_counts)"
   ]
  },
  {
   "cell_type": "code",
   "execution_count": 39,
   "metadata": {
    "collapsed": true
   },
   "outputs": [],
   "source": [
    "def print_top_words(model, feature_names, n_top_words):\n",
    "    for topic_idx, topic in enumerate(model.components_):\n",
    "        print(\"Topic #%d:\" % topic_idx)\n",
    "        print(\" \".join([feature_names[i]\n",
    "                        for i in topic.argsort()[:-n_top_words - 1:-1]]))"
   ]
  },
  {
   "cell_type": "code",
   "execution_count": 40,
   "metadata": {
    "collapsed": false
   },
   "outputs": [
    {
     "name": "stdout",
     "output_type": "stream",
     "text": [
      "Topic #0:\n",
      "car like just cars drive engine driving really good little mustang don time contour power great lot seat trunk focus\n",
      "Topic #1:\n",
      "truck like just cab drive ranger 150 trucks bed really time don little power quot big good great thing driving\n",
      "Topic #2:\n",
      "ford 146s rear engine seat new interior available power large cars dodge gm better standard row seats 150 model automatic\n",
      "Topic #3:\n",
      "vehicle like explorer seat seats suv just don driving gas drive expedition little door rear road power good nice driver\n",
      "Topic #4:\n",
      "ford quot miles 000 problems engine transmission problem br warranty vehicle dealer time replaced van service taurus dealership good years\n",
      "None\n"
     ]
    }
   ],
   "source": [
    "print(print_top_words(nmf, vocab, 20))"
   ]
  },
  {
   "cell_type": "markdown",
   "metadata": {},
   "source": [
    "###Topic 1:\n",
    "\n",
    "car vehicle miles\n",
    "\n",
    "###Topic 2:\n",
    "\n",
    "Ford little problems\n",
    "\n",
    "### Topic 3:\n",
    "\n",
    "Vehicle seat Interior\n",
    "\n",
    "### Topic 4:\n",
    "\n",
    "Engine, transmission\n",
    "\n",
    "###Topic 5:\n",
    "\n",
    "Dealer warranty"
   ]
  },
  {
   "cell_type": "markdown",
   "metadata": {},
   "source": [
    "#Most important words"
   ]
  },
  {
   "cell_type": "code",
   "execution_count": 41,
   "metadata": {
    "collapsed": false
   },
   "outputs": [
    {
     "name": "stdout",
     "output_type": "stream",
     "text": [
      "[u'car', u'ford', u'one', u'like', u'would', u'vehicle', u'truck', u'get', u'back', u'engine', u'good', u'drive', u'new', u'well', u'also', u'miles', u'quot', u'seat', u'power', u'even']\n"
     ]
    }
   ],
   "source": [
    "vectorizer = TfidfVectorizer()\n",
    "X = vectorizer.fit_transform(no_stop_words)\n",
    "indices = np.argsort(vectorizer.idf_)\n",
    "features = vectorizer.get_feature_names()\n",
    "top_n = 20\n",
    "top_features = [features[i] for i in indices[:top_n]] \n",
    "\n",
    "print top_features"
   ]
  },
  {
   "cell_type": "code",
   "execution_count": 42,
   "metadata": {
    "collapsed": false
   },
   "outputs": [],
   "source": [
    "sentiment_list = []\n",
    "for i in range(len(epinions[\"text\"])):\n",
    "    text = TextBlob(epinions[\"text\"][i])\n",
    "    if text.sentiment.polarity <= 0:\n",
    "        sentiment_list.append('Neg')\n",
    "    else:\n",
    "        sentiment_list.append('Pos')\n",
    "               \n",
    "               "
   ]
  },
  {
   "cell_type": "code",
   "execution_count": 43,
   "metadata": {
    "collapsed": false
   },
   "outputs": [],
   "source": [
    "class_list = list(epinions['class'])"
   ]
  },
  {
   "cell_type": "code",
   "execution_count": 44,
   "metadata": {
    "collapsed": false
   },
   "outputs": [],
   "source": [
    "count = 0\n",
    "\n",
    "for i in range(len(sentiment_list)):\n",
    "    if sentiment_list[i] == class_list[i]:\n",
    "        count +=1"
   ]
  },
  {
   "cell_type": "code",
   "execution_count": 45,
   "metadata": {
    "collapsed": false
   },
   "outputs": [
    {
     "data": {
      "text/plain": [
       "0.5607814761215629"
      ]
     },
     "execution_count": 45,
     "metadata": {},
     "output_type": "execute_result"
    }
   ],
   "source": [
    "count/len(class_list)"
   ]
  },
  {
   "cell_type": "markdown",
   "metadata": {},
   "source": [
    "My best assumption is that polarity has a hard time deciding if the epinion is positive or negative since it could have negative sentiments, but overall positive review.  such as \" I didn't like the seats, but the car was great overall and I love the color\".  The polarity detection software didn't distinguish from that.  It is good for single words, or 2 or 3, but not for entire paragraphs. "
   ]
  },
  {
   "cell_type": "markdown",
   "metadata": {},
   "source": [
    "#Possible uses:\n",
    "- Discovered negative, positive, and even neutral words used in the corpus\n",
    "- After discovering the sentiment, we can act accordingly to improve negative opinions and keep positive ones\n",
    "- We discovered that Logistic Regression, Naive Bayes, and SCG Classifier predicted relatively well and would need effort to improve that accuracy."
   ]
  },
  {
   "cell_type": "markdown",
   "metadata": {},
   "source": [
    "#Websites to play around with:\n",
    "    \n",
    "http://www.nltk.org/howto/sentiment.html\n",
    "\n",
    "https://dato.com/learn/userguide/sentiment_analysis/introduction.html\n",
    "\n",
    "https://github.com/MarvinBertin/Machine-Learning-Foundations/blob/master/week3/Analyzing%20product%20sentiment.ipynb"
   ]
  },
  {
   "cell_type": "markdown",
   "metadata": {},
   "source": [
    "# Genism"
   ]
  },
  {
   "cell_type": "code",
   "execution_count": 46,
   "metadata": {
    "collapsed": true
   },
   "outputs": [],
   "source": [
    "import gensim"
   ]
  },
  {
   "cell_type": "code",
   "execution_count": 47,
   "metadata": {
    "collapsed": false
   },
   "outputs": [],
   "source": [
    "import logging\n",
    "logging.basicConfig(format='%(asctime)s : %(levelname)s : %(message)s', level=logging.INFO)"
   ]
  },
  {
   "cell_type": "code",
   "execution_count": 48,
   "metadata": {
    "collapsed": true
   },
   "outputs": [],
   "source": [
    "from gensim import corpora, models, similarities"
   ]
  },
  {
   "cell_type": "code",
   "execution_count": 49,
   "metadata": {
    "collapsed": true
   },
   "outputs": [],
   "source": [
    "from gensim.models import word2vec"
   ]
  },
  {
   "cell_type": "code",
   "execution_count": 50,
   "metadata": {
    "collapsed": false
   },
   "outputs": [],
   "source": [
    "stop = stopwords.words('english')"
   ]
  },
  {
   "cell_type": "code",
   "execution_count": 51,
   "metadata": {
    "collapsed": false
   },
   "outputs": [],
   "source": [
    "sentences = word2vec.Text8Corpus('epinions-likeford.txt') # saved file as txt"
   ]
  },
  {
   "cell_type": "code",
   "execution_count": 52,
   "metadata": {
    "collapsed": false
   },
   "outputs": [],
   "source": [
    "model = word2vec.Word2Vec(sentences, size=200)"
   ]
  },
  {
   "cell_type": "code",
   "execution_count": 53,
   "metadata": {
    "collapsed": false
   },
   "outputs": [
    {
     "data": {
      "text/plain": [
       "[(u'beautiful', 0.7558436393737793),\n",
       " (u'good', 0.7553445100784302),\n",
       " (u'nice', 0.7475379705429077),\n",
       " (u'dependable', 0.6985313892364502),\n",
       " (u'awesome', 0.6948435306549072),\n",
       " (u'wonderful', 0.6811346411705017),\n",
       " (u'reasonable', 0.6511977314949036),\n",
       " (u'terrific', 0.6469957828521729),\n",
       " (u'perfect', 0.6402344107627869),\n",
       " (u'decent', 0.6356009244918823)]"
      ]
     },
     "execution_count": 53,
     "metadata": {},
     "output_type": "execute_result"
    }
   ],
   "source": [
    "model.most_similar(positive = ['great'], topn=10)"
   ]
  },
  {
   "cell_type": "code",
   "execution_count": 54,
   "metadata": {
    "collapsed": false
   },
   "outputs": [
    {
     "data": {
      "text/plain": [
       "[(u'Camry', 0.8350132703781128),\n",
       " (u'Toyota', 0.8071731925010681),\n",
       " (u'Maxima', 0.8011614084243774),\n",
       " (u'Nissan', 0.7984240651130676),\n",
       " (u'Civic', 0.7769051790237427),\n",
       " (u'EX', 0.7530535459518433),\n",
       " (u'Metro', 0.7467656135559082),\n",
       " (u'Chevy', 0.7435838580131531),\n",
       " (u'Accord', 0.7342451810836792),\n",
       " (u'Altima', 0.7305277585983276)]"
      ]
     },
     "execution_count": 54,
     "metadata": {},
     "output_type": "execute_result"
    }
   ],
   "source": [
    "model.most_similar(['vehicle', 'Honda'], ['car'], topn=10)"
   ]
  },
  {
   "cell_type": "code",
   "execution_count": 55,
   "metadata": {
    "collapsed": false
   },
   "outputs": [
    {
     "data": {
      "text/plain": [
       "'dog'"
      ]
     },
     "execution_count": 55,
     "metadata": {},
     "output_type": "execute_result"
    }
   ],
   "source": [
    "model.doesnt_match(\"Honda Camry dog Toyota Maxima\".split(' '))"
   ]
  },
  {
   "cell_type": "code",
   "execution_count": 56,
   "metadata": {
    "collapsed": false
   },
   "outputs": [
    {
     "data": {
      "text/plain": [
       "0.5496310717334203"
      ]
     },
     "execution_count": 56,
     "metadata": {},
     "output_type": "execute_result"
    }
   ],
   "source": [
    "model.n_similarity(['Honda', 'car'], ['vehicle', 'mileage'])"
   ]
  },
  {
   "cell_type": "code",
   "execution_count": 57,
   "metadata": {
    "collapsed": false
   },
   "outputs": [],
   "source": [
    "from gensim.summarization import summarize, keywords"
   ]
  },
  {
   "cell_type": "markdown",
   "metadata": {},
   "source": [
    "#possible uses:\n",
    "\n",
    "- We can categorize or group words together that relate to each other\n",
    "- find out how these words are used together could further help with sentiment or opinion \n",
    "- we can also find which words do not work together and not put them together"
   ]
  }
 ],
 "metadata": {
  "kernelspec": {
   "display_name": "Python [default]",
   "language": "python",
   "name": "python2"
  },
  "language_info": {
   "codemirror_mode": {
    "name": "ipython",
    "version": 2
   },
   "file_extension": ".py",
   "mimetype": "text/x-python",
   "name": "python",
   "nbconvert_exporter": "python",
   "pygments_lexer": "ipython2",
   "version": "2.7.12"
  }
 },
 "nbformat": 4,
 "nbformat_minor": 0
}
