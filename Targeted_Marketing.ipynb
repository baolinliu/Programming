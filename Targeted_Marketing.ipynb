{
 "cells": [
  {
   "cell_type": "markdown",
   "metadata": {},
   "source": [
    "The training data is pulled from raw logs. It has three columns that record user activity over time:\n",
    "user_id: A hash that uniquely identifies the user.\n",
    "activity_date: The date of the activity\n",
    "activity_type: The type of activity\n",
    "\n",
    "Predict which users will purchase given the user's activities. \n",
    "\n",
    "Using the training data, build a model that predicts which user_id's will make a purchase in the future. Use the model to score the test data from most likely to least likely to purchase.\n",
    "\n",
    "Please submit the following:\n",
    "\n",
    "(1) Descibe which activity types you believe are most useful in predicting which user will purchase in the future.\n",
    "\n",
    "(2) Provide a file containing the 1000 user_id's most likely to convert.\n",
    "\n",
    "(3) [optional] Any work used to generate the list and/or notes you'd like to include."
   ]
  },
  {
   "cell_type": "markdown",
   "metadata": {},
   "source": [
    "# SUMMARY\n",
    "\n",
    "Before any modeling was done, I aggregated all the times a person completed an action such as email click, website visit, etc. Instead of many IDs, each row represented a many times a person completed an action.\n",
    "\n",
    "For the model, I chose the Gradient Boosted Classifier( 0.915 accuracy)  to identify who would make a purchase and Gradient Boosted Regression to estimate how many a person would purchase.  I chose this for its ensemble method, ability to improve weak learners, and being able to handle imbalanced classes.  Based on feature importance, Logs, which I aggregated as how many times a person has logged into the website is the most important feature in determining a purchase.  That is Following by Email open and afterwards the feature importance significantly drops.\n",
    "\n",
    "Customer Support was not used as a feature of prediction since it did not map to the test set.  Although I do believe could be an important feature since everyone who purchased before at one time used Customer Support.\n"
   ]
  },
  {
   "cell_type": "code",
   "execution_count": 4,
   "metadata": {
    "collapsed": false
   },
   "outputs": [],
   "source": [
    "import csv\n",
    "import pandas as pd\n",
    "import numpy as np\n",
    "from collections import Counter\n",
    "from datetime import datetime\n",
    "from __future__ import division\n",
    "from six.moves import cPickle as pickle\n",
    "from sklearn.linear_model import LogisticRegression\n",
    "from sklearn.ensemble import GradientBoostingClassifier , GradientBoostingRegressor , RandomForestClassifier , AdaBoostClassifier\n",
    "from sklearn.cross_validation import train_test_split , KFold\n",
    "from sklearn.metrics import f1_score, recall_score,precision_score , confusion_matrix, roc_curve, auc\n",
    "import matplotlib.pyplot as plt\n",
    "%matplotlib inline"
   ]
  },
  {
   "cell_type": "code",
   "execution_count": 5,
   "metadata": {
    "collapsed": false
   },
   "outputs": [
    {
     "data": {
      "text/plain": [
       "\"\\n\\nwith open('training.tsv','rb') as fin:\\n    cr = csv.reader(fin, delimiter='\\t')\\n    filecontents = [line for line in cr]\\nwith open('training.csv','wb') as fou:\\n    cw = csv.writer(fou, quotechar='', quoting=csv.QUOTE_NONE)\\n    cw.writerows(filecontents)\\n\""
      ]
     },
     "execution_count": 5,
     "metadata": {},
     "output_type": "execute_result"
    }
   ],
   "source": [
    "# converting tsv data to csv\n",
    "'''\n",
    "\n",
    "with open('training.tsv','rb') as fin:\n",
    "    cr = csv.reader(fin, delimiter='\\t')\n",
    "    filecontents = [line for line in cr]\n",
    "with open('training.csv','wb') as fou:\n",
    "    cw = csv.writer(fou, quotechar='', quoting=csv.QUOTE_NONE)\n",
    "    cw.writerows(filecontents)\n",
    "'''\n",
    "# went inside the csv file and gave the columns names"
   ]
  },
  {
   "cell_type": "code",
   "execution_count": 6,
   "metadata": {
    "collapsed": false
   },
   "outputs": [
    {
     "data": {
      "text/html": [
       "<div>\n",
       "<table border=\"1\" class=\"dataframe\">\n",
       "  <thead>\n",
       "    <tr style=\"text-align: right;\">\n",
       "      <th></th>\n",
       "      <th>ID</th>\n",
       "      <th>Date</th>\n",
       "      <th>Action</th>\n",
       "    </tr>\n",
       "  </thead>\n",
       "  <tbody>\n",
       "    <tr>\n",
       "      <th>0</th>\n",
       "      <td>00002acbe042d69</td>\n",
       "      <td>7/11/13</td>\n",
       "      <td>FormSubmit</td>\n",
       "    </tr>\n",
       "    <tr>\n",
       "      <th>1</th>\n",
       "      <td>00002acbe042d69</td>\n",
       "      <td>7/15/13</td>\n",
       "      <td>EmailOpen</td>\n",
       "    </tr>\n",
       "    <tr>\n",
       "      <th>2</th>\n",
       "      <td>00002acbe042d69</td>\n",
       "      <td>7/17/13</td>\n",
       "      <td>EmailOpen</td>\n",
       "    </tr>\n",
       "    <tr>\n",
       "      <th>3</th>\n",
       "      <td>00002acbe042d69</td>\n",
       "      <td>7/18/13</td>\n",
       "      <td>EmailOpen</td>\n",
       "    </tr>\n",
       "    <tr>\n",
       "      <th>4</th>\n",
       "      <td>00002acbe042d69</td>\n",
       "      <td>7/25/13</td>\n",
       "      <td>EmailOpen</td>\n",
       "    </tr>\n",
       "    <tr>\n",
       "      <th>5</th>\n",
       "      <td>00002acbe042d69</td>\n",
       "      <td>7/26/13</td>\n",
       "      <td>EmailOpen</td>\n",
       "    </tr>\n",
       "    <tr>\n",
       "      <th>6</th>\n",
       "      <td>00002acbe042d69</td>\n",
       "      <td>8/1/13</td>\n",
       "      <td>EmailOpen</td>\n",
       "    </tr>\n",
       "    <tr>\n",
       "      <th>7</th>\n",
       "      <td>00002acbe042d69</td>\n",
       "      <td>8/5/13</td>\n",
       "      <td>EmailOpen</td>\n",
       "    </tr>\n",
       "    <tr>\n",
       "      <th>8</th>\n",
       "      <td>00002acbe042d69</td>\n",
       "      <td>8/12/13</td>\n",
       "      <td>EmailOpen</td>\n",
       "    </tr>\n",
       "    <tr>\n",
       "      <th>9</th>\n",
       "      <td>0000a3a34bd07e6</td>\n",
       "      <td>7/4/13</td>\n",
       "      <td>EmailOpen</td>\n",
       "    </tr>\n",
       "    <tr>\n",
       "      <th>10</th>\n",
       "      <td>0000a3a34bd07e6</td>\n",
       "      <td>7/5/13</td>\n",
       "      <td>EmailOpen</td>\n",
       "    </tr>\n",
       "    <tr>\n",
       "      <th>11</th>\n",
       "      <td>0000a3a34bd07e6</td>\n",
       "      <td>11/1/13</td>\n",
       "      <td>EmailOpen</td>\n",
       "    </tr>\n",
       "    <tr>\n",
       "      <th>12</th>\n",
       "      <td>0000a3a34bd07e6</td>\n",
       "      <td>11/9/13</td>\n",
       "      <td>EmailOpen</td>\n",
       "    </tr>\n",
       "    <tr>\n",
       "      <th>13</th>\n",
       "      <td>0000a3a34bd07e6</td>\n",
       "      <td>11/20/13</td>\n",
       "      <td>EmailOpen</td>\n",
       "    </tr>\n",
       "    <tr>\n",
       "      <th>14</th>\n",
       "      <td>0000a3a34bd07e6</td>\n",
       "      <td>12/24/13</td>\n",
       "      <td>EmailOpen</td>\n",
       "    </tr>\n",
       "    <tr>\n",
       "      <th>15</th>\n",
       "      <td>0000a3a34bd07e6</td>\n",
       "      <td>2/15/14</td>\n",
       "      <td>EmailOpen</td>\n",
       "    </tr>\n",
       "    <tr>\n",
       "      <th>16</th>\n",
       "      <td>0000a3a34bd07e6</td>\n",
       "      <td>3/3/14</td>\n",
       "      <td>EmailOpen</td>\n",
       "    </tr>\n",
       "    <tr>\n",
       "      <th>17</th>\n",
       "      <td>0000a3a34bd07e6</td>\n",
       "      <td>3/4/14</td>\n",
       "      <td>EmailOpen</td>\n",
       "    </tr>\n",
       "    <tr>\n",
       "      <th>18</th>\n",
       "      <td>0000a3a34bd07e6</td>\n",
       "      <td>3/5/14</td>\n",
       "      <td>EmailOpen</td>\n",
       "    </tr>\n",
       "    <tr>\n",
       "      <th>19</th>\n",
       "      <td>0000a3a34bd07e6</td>\n",
       "      <td>3/8/14</td>\n",
       "      <td>EmailOpen</td>\n",
       "    </tr>\n",
       "  </tbody>\n",
       "</table>\n",
       "</div>"
      ],
      "text/plain": [
       "                 ID      Date      Action\n",
       "0   00002acbe042d69   7/11/13  FormSubmit\n",
       "1   00002acbe042d69   7/15/13   EmailOpen\n",
       "2   00002acbe042d69   7/17/13   EmailOpen\n",
       "3   00002acbe042d69   7/18/13   EmailOpen\n",
       "4   00002acbe042d69   7/25/13   EmailOpen\n",
       "5   00002acbe042d69   7/26/13   EmailOpen\n",
       "6   00002acbe042d69    8/1/13   EmailOpen\n",
       "7   00002acbe042d69    8/5/13   EmailOpen\n",
       "8   00002acbe042d69   8/12/13   EmailOpen\n",
       "9   0000a3a34bd07e6    7/4/13   EmailOpen\n",
       "10  0000a3a34bd07e6    7/5/13   EmailOpen\n",
       "11  0000a3a34bd07e6   11/1/13   EmailOpen\n",
       "12  0000a3a34bd07e6   11/9/13   EmailOpen\n",
       "13  0000a3a34bd07e6  11/20/13   EmailOpen\n",
       "14  0000a3a34bd07e6  12/24/13   EmailOpen\n",
       "15  0000a3a34bd07e6   2/15/14   EmailOpen\n",
       "16  0000a3a34bd07e6    3/3/14   EmailOpen\n",
       "17  0000a3a34bd07e6    3/4/14   EmailOpen\n",
       "18  0000a3a34bd07e6    3/5/14   EmailOpen\n",
       "19  0000a3a34bd07e6    3/8/14   EmailOpen"
      ]
     },
     "execution_count": 6,
     "metadata": {},
     "output_type": "execute_result"
    }
   ],
   "source": [
    "# loading training data\n",
    "\n",
    "train = pd.read_csv('training.csv')\n",
    "train.head(20)"
   ]
  },
  {
   "cell_type": "markdown",
   "metadata": {},
   "source": [
    "# After Multiple duplicate IDs, I wanted to consolidate them "
   ]
  },
  {
   "cell_type": "code",
   "execution_count": null,
   "metadata": {
    "collapsed": true
   },
   "outputs": [],
   "source": [
    "def organize_data(ID,df,string1,string2)\n",
    "'''\n",
    "Given rows of multiple log ins from the same ID,\n",
    "this is a way to count their actions as one ID number \n",
    "\n",
    "The information is then stored in nested dictionary.\n",
    "'''\n",
    "    d = {} \n",
    "    for i in ID:\n",
    "        try:\n",
    "            a= df[df[string1]==i]\n",
    "            d[i] = dict(Counter(a[string2]))   \n",
    "        except:\n",
    "            pass"
   ]
  },
  {
   "cell_type": "code",
   "execution_count": null,
   "metadata": {
    "collapsed": true
   },
   "outputs": [],
   "source": [
    "info = organize_data(ID,train,'ID','Action')\n",
    "\n",
    "with open('d_train.pickle', 'wb') as f: # save for later use\n",
    "    pickle.dump(info, f, pickle.HIGHEST_PROTOCOL)"
   ]
  },
  {
   "cell_type": "code",
   "execution_count": null,
   "metadata": {
    "collapsed": true
   },
   "outputs": [],
   "source": [
    "with open('d_train.pickle','rb') as f: # open saved information\n",
    "    training_info = pickle.load(f)"
   ]
  },
  {
   "cell_type": "code",
   "execution_count": null,
   "metadata": {
    "collapsed": true
   },
   "outputs": [],
   "source": [
    "def make_column(ID_list,string,dictionary,df):\n",
    "    \n",
    "'''\n",
    "\n",
    "Making multi-categorical variables into their own column \n",
    "\n",
    "Given the counts, from the nested dictionary, it \n",
    "adds columns to an empty DataFrame to store results for\n",
    "machine learning i.e classification / regression\n",
    "df: the dataframe you want to add to\n",
    "string: name of column\n",
    "ID_list: list of ids\n",
    "\n",
    "\n",
    "'''\n",
    "    lst = []\n",
    "    for i in ID_list:\n",
    "        try:\n",
    "            lst.append(dictionary[i][string])\n",
    "        except:\n",
    "            lst.append(0)\n",
    "    df[string] = lst"
   ]
  },
  {
   "cell_type": "code",
   "execution_count": null,
   "metadata": {
    "collapsed": true
   },
   "outputs": [],
   "source": [
    "# creating a new data frame\n",
    "\n",
    "training_set = pd.DataFrame(columns=['ID'])\n",
    "\n",
    "# adding unique IDs into the dataframe\n",
    "\n",
    "training_set['ID'] = list(training_info.keys())"
   ]
  },
  {
   "cell_type": "code",
   "execution_count": null,
   "metadata": {
    "collapsed": true
   },
   "outputs": [],
   "source": [
    "for i in list(set(train['Action'])): \n",
    "    # adding the collected info from the nested dictionary into the training set\n",
    "    make_column(list(training_set['ID']),i,training_info,training_set)"
   ]
  },
  {
   "cell_type": "code",
   "execution_count": null,
   "metadata": {
    "collapsed": true
   },
   "outputs": [],
   "source": [
    "count = dict(Counter(train['ID'])) # counting IDs \n",
    "count = [count[i] for i in training_info.keys()] \n",
    "# referring ID to number of times logged into\n",
    "training_set['Logs'] = count # saving how many people logged in\n",
    "purchased = [0 if i == 0 else 1 for i in training_set['Purchase'] ] \n",
    "# If someone purchased or not, creating binary outcome\n",
    "training_set['Purchases'] = purchased # saving how many purchases per ID"
   ]
  },
  {
   "cell_type": "markdown",
   "metadata": {},
   "source": [
    "# There is also a Test Set, where I followed the same procedure as above except there were no purchases or Customer Support\n",
    "\n",
    "# The training set will predict which customers will buy and how much"
   ]
  },
  {
   "cell_type": "code",
   "execution_count": 2,
   "metadata": {
    "collapsed": true
   },
   "outputs": [],
   "source": [
    "def print_metrics(y_actual, y_predict):\n",
    "    \"\"\"Prints multiple metrics\"\"\"\n",
    "    print \"Accuracy:\", (y_predict == y_actual).mean()\n",
    "    print \"Precision:\", precision_score(y_actual, y_predict)\n",
    "    print \"Recall:\", recall_score(y_actual, y_predict)\n",
    "    print \"F1-score:\", f1_score(y_actual, y_predict)\n",
    "    "
   ]
  },
  {
   "cell_type": "markdown",
   "metadata": {},
   "source": [
    "# After breaking out the action items, I created a training set where I can model"
   ]
  },
  {
   "cell_type": "code",
   "execution_count": 133,
   "metadata": {
    "collapsed": false
   },
   "outputs": [
    {
     "data": {
      "text/html": [
       "<div>\n",
       "<table border=\"1\" class=\"dataframe\">\n",
       "  <thead>\n",
       "    <tr style=\"text-align: right;\">\n",
       "      <th></th>\n",
       "      <th>ID</th>\n",
       "      <th>CustomerSupport</th>\n",
       "      <th>EmailClickthrough</th>\n",
       "      <th>EmailOpen</th>\n",
       "      <th>FormSubmit</th>\n",
       "      <th>PageView</th>\n",
       "      <th>WebVisit</th>\n",
       "      <th>Logs</th>\n",
       "      <th>Purchased</th>\n",
       "      <th>Purchases</th>\n",
       "    </tr>\n",
       "  </thead>\n",
       "  <tbody>\n",
       "    <tr>\n",
       "      <th>0</th>\n",
       "      <td>19f2dba2fe6f1ce</td>\n",
       "      <td>0</td>\n",
       "      <td>1</td>\n",
       "      <td>2</td>\n",
       "      <td>1</td>\n",
       "      <td>0</td>\n",
       "      <td>0</td>\n",
       "      <td>4</td>\n",
       "      <td>0</td>\n",
       "      <td>0</td>\n",
       "    </tr>\n",
       "    <tr>\n",
       "      <th>1</th>\n",
       "      <td>130c9ac7efcf577</td>\n",
       "      <td>0</td>\n",
       "      <td>0</td>\n",
       "      <td>18</td>\n",
       "      <td>0</td>\n",
       "      <td>0</td>\n",
       "      <td>0</td>\n",
       "      <td>18</td>\n",
       "      <td>0</td>\n",
       "      <td>0</td>\n",
       "    </tr>\n",
       "    <tr>\n",
       "      <th>2</th>\n",
       "      <td>05be946d079510d</td>\n",
       "      <td>1</td>\n",
       "      <td>0</td>\n",
       "      <td>0</td>\n",
       "      <td>0</td>\n",
       "      <td>0</td>\n",
       "      <td>0</td>\n",
       "      <td>4</td>\n",
       "      <td>1</td>\n",
       "      <td>3</td>\n",
       "    </tr>\n",
       "    <tr>\n",
       "      <th>3</th>\n",
       "      <td>1a07e9bd3298a93</td>\n",
       "      <td>1</td>\n",
       "      <td>7</td>\n",
       "      <td>76</td>\n",
       "      <td>6</td>\n",
       "      <td>0</td>\n",
       "      <td>0</td>\n",
       "      <td>105</td>\n",
       "      <td>1</td>\n",
       "      <td>15</td>\n",
       "    </tr>\n",
       "    <tr>\n",
       "      <th>4</th>\n",
       "      <td>142e44bf3b4c1e1</td>\n",
       "      <td>0</td>\n",
       "      <td>1</td>\n",
       "      <td>2</td>\n",
       "      <td>0</td>\n",
       "      <td>2</td>\n",
       "      <td>2</td>\n",
       "      <td>7</td>\n",
       "      <td>0</td>\n",
       "      <td>0</td>\n",
       "    </tr>\n",
       "  </tbody>\n",
       "</table>\n",
       "</div>"
      ],
      "text/plain": [
       "                ID  CustomerSupport  EmailClickthrough  EmailOpen  FormSubmit  \\\n",
       "0  19f2dba2fe6f1ce                0                  1          2           1   \n",
       "1  130c9ac7efcf577                0                  0         18           0   \n",
       "2  05be946d079510d                1                  0          0           0   \n",
       "3  1a07e9bd3298a93                1                  7         76           6   \n",
       "4  142e44bf3b4c1e1                0                  1          2           0   \n",
       "\n",
       "   PageView  WebVisit  Logs  Purchased  Purchases  \n",
       "0         0         0     4          0          0  \n",
       "1         0         0    18          0          0  \n",
       "2         0         0     4          1          3  \n",
       "3         0         0   105          1         15  \n",
       "4         2         2     7          0          0  "
      ]
     },
     "execution_count": 133,
     "metadata": {},
     "output_type": "execute_result"
    }
   ],
   "source": [
    "training_data = pd.read_csv('training_set.csv')\n",
    "training_data.head()"
   ]
  },
  {
   "cell_type": "markdown",
   "metadata": {},
   "source": [
    "# Exploring the data"
   ]
  },
  {
   "cell_type": "code",
   "execution_count": 47,
   "metadata": {
    "collapsed": false
   },
   "outputs": [
    {
     "data": {
      "image/png": "[encoded data removed]",
      "text/plain": [
       "<matplotlib.figure.Figure at 0x118d53850>"
      ]
     },
     "metadata": {},
     "output_type": "display_data"
    }
   ],
   "source": [
    "training_data = training_data[list(training_data)[2:]]\n",
    "training_data.hist(alpha=0.5, bins=50, figsize=(18, 14) , normed = True);"
   ]
  },
  {
   "cell_type": "code",
   "execution_count": 48,
   "metadata": {
    "collapsed": false
   },
   "outputs": [
    {
     "data": {
      "text/html": [
       "<div>\n",
       "<table border=\"1\" class=\"dataframe\">\n",
       "  <thead>\n",
       "    <tr style=\"text-align: right;\">\n",
       "      <th></th>\n",
       "      <th>EmailClickthrough</th>\n",
       "      <th>EmailOpen</th>\n",
       "      <th>FormSubmit</th>\n",
       "      <th>PageView</th>\n",
       "      <th>WebVisit</th>\n",
       "      <th>Logs</th>\n",
       "      <th>Purchased</th>\n",
       "      <th>Purchases</th>\n",
       "    </tr>\n",
       "  </thead>\n",
       "  <tbody>\n",
       "    <tr>\n",
       "      <th>EmailClickthrough</th>\n",
       "      <td>1.000000</td>\n",
       "      <td>0.688520</td>\n",
       "      <td>0.769532</td>\n",
       "      <td>0.627488</td>\n",
       "      <td>0.628243</td>\n",
       "      <td>0.810514</td>\n",
       "      <td>0.085819</td>\n",
       "      <td>0.396072</td>\n",
       "    </tr>\n",
       "    <tr>\n",
       "      <th>EmailOpen</th>\n",
       "      <td>0.688520</td>\n",
       "      <td>1.000000</td>\n",
       "      <td>0.607651</td>\n",
       "      <td>0.526258</td>\n",
       "      <td>0.526985</td>\n",
       "      <td>0.887660</td>\n",
       "      <td>0.098269</td>\n",
       "      <td>0.422265</td>\n",
       "    </tr>\n",
       "    <tr>\n",
       "      <th>FormSubmit</th>\n",
       "      <td>0.769532</td>\n",
       "      <td>0.607651</td>\n",
       "      <td>1.000000</td>\n",
       "      <td>0.585521</td>\n",
       "      <td>0.588880</td>\n",
       "      <td>0.749905</td>\n",
       "      <td>0.075280</td>\n",
       "      <td>0.447306</td>\n",
       "    </tr>\n",
       "    <tr>\n",
       "      <th>PageView</th>\n",
       "      <td>0.627488</td>\n",
       "      <td>0.526258</td>\n",
       "      <td>0.585521</td>\n",
       "      <td>1.000000</td>\n",
       "      <td>0.999852</td>\n",
       "      <td>0.836133</td>\n",
       "      <td>0.096809</td>\n",
       "      <td>0.331459</td>\n",
       "    </tr>\n",
       "    <tr>\n",
       "      <th>WebVisit</th>\n",
       "      <td>0.628243</td>\n",
       "      <td>0.526985</td>\n",
       "      <td>0.588880</td>\n",
       "      <td>0.999852</td>\n",
       "      <td>1.000000</td>\n",
       "      <td>0.836823</td>\n",
       "      <td>0.096672</td>\n",
       "      <td>0.331841</td>\n",
       "    </tr>\n",
       "    <tr>\n",
       "      <th>Logs</th>\n",
       "      <td>0.810514</td>\n",
       "      <td>0.887660</td>\n",
       "      <td>0.749905</td>\n",
       "      <td>0.836133</td>\n",
       "      <td>0.836823</td>\n",
       "      <td>1.000000</td>\n",
       "      <td>0.153418</td>\n",
       "      <td>0.540705</td>\n",
       "    </tr>\n",
       "    <tr>\n",
       "      <th>Purchased</th>\n",
       "      <td>0.085819</td>\n",
       "      <td>0.098269</td>\n",
       "      <td>0.075280</td>\n",
       "      <td>0.096809</td>\n",
       "      <td>0.096672</td>\n",
       "      <td>0.153418</td>\n",
       "      <td>1.000000</td>\n",
       "      <td>0.344465</td>\n",
       "    </tr>\n",
       "    <tr>\n",
       "      <th>Purchases</th>\n",
       "      <td>0.396072</td>\n",
       "      <td>0.422265</td>\n",
       "      <td>0.447306</td>\n",
       "      <td>0.331459</td>\n",
       "      <td>0.331841</td>\n",
       "      <td>0.540705</td>\n",
       "      <td>0.344465</td>\n",
       "      <td>1.000000</td>\n",
       "    </tr>\n",
       "  </tbody>\n",
       "</table>\n",
       "</div>"
      ],
      "text/plain": [
       "                   EmailClickthrough  EmailOpen  FormSubmit  PageView  \\\n",
       "EmailClickthrough           1.000000   0.688520    0.769532  0.627488   \n",
       "EmailOpen                   0.688520   1.000000    0.607651  0.526258   \n",
       "FormSubmit                  0.769532   0.607651    1.000000  0.585521   \n",
       "PageView                    0.627488   0.526258    0.585521  1.000000   \n",
       "WebVisit                    0.628243   0.526985    0.588880  0.999852   \n",
       "Logs                        0.810514   0.887660    0.749905  0.836133   \n",
       "Purchased                   0.085819   0.098269    0.075280  0.096809   \n",
       "Purchases                   0.396072   0.422265    0.447306  0.331459   \n",
       "\n",
       "                   WebVisit      Logs  Purchased  Purchases  \n",
       "EmailClickthrough  0.628243  0.810514   0.085819   0.396072  \n",
       "EmailOpen          0.526985  0.887660   0.098269   0.422265  \n",
       "FormSubmit         0.588880  0.749905   0.075280   0.447306  \n",
       "PageView           0.999852  0.836133   0.096809   0.331459  \n",
       "WebVisit           1.000000  0.836823   0.096672   0.331841  \n",
       "Logs               0.836823  1.000000   0.153418   0.540705  \n",
       "Purchased          0.096672  0.153418   1.000000   0.344465  \n",
       "Purchases          0.331841  0.540705   0.344465   1.000000  "
      ]
     },
     "execution_count": 48,
     "metadata": {},
     "output_type": "execute_result"
    }
   ],
   "source": [
    "training_data.corr()"
   ]
  },
  {
   "cell_type": "code",
   "execution_count": 49,
   "metadata": {
    "collapsed": true
   },
   "outputs": [],
   "source": [
    "# customer support was not used in the prediction because future customers\n",
    "# have not yet used this service, therefore cannot be a feature for prediction\n",
    "\n",
    "col = ['EmailClickthrough','EmailOpen','FormSubmit','PageView','WebVisit','Logs']\n",
    "label = 'Purchased'"
   ]
  },
  {
   "cell_type": "markdown",
   "metadata": {},
   "source": [
    "# Finding the number of purchased customers"
   ]
  },
  {
   "cell_type": "code",
   "execution_count": 129,
   "metadata": {
    "collapsed": false
   },
   "outputs": [
    {
     "data": {
      "text/plain": [
       "0.30572445165067785"
      ]
     },
     "execution_count": 129,
     "metadata": {},
     "output_type": "execute_result"
    }
   ],
   "source": [
    "len(training_data[training_data['Purchased']==1]) / len(training_data)"
   ]
  },
  {
   "cell_type": "code",
   "execution_count": 134,
   "metadata": {
    "collapsed": true
   },
   "outputs": [],
   "source": [
    "purchased = training_data[training_data['Purchased']==1]"
   ]
  },
  {
   "cell_type": "markdown",
   "metadata": {},
   "source": [
    "# Fitting the model"
   ]
  },
  {
   "cell_type": "code",
   "execution_count": 250,
   "metadata": {
    "collapsed": false
   },
   "outputs": [],
   "source": [
    "X = training_data[col]\n",
    "y = training_data[label]\n",
    "X_train,X_test,y_train,y_test = train_test_split(X,y,test_size=0.5, random_state=42)\n",
    "GB = GradientBoostingClassifier()"
   ]
  },
  {
   "cell_type": "code",
   "execution_count": 251,
   "metadata": {
    "collapsed": false
   },
   "outputs": [
    {
     "data": {
      "text/plain": [
       "0.9159585647800631"
      ]
     },
     "execution_count": 251,
     "metadata": {},
     "output_type": "execute_result"
    }
   ],
   "source": [
    "GB.fit(X_train,y_train)\n",
    "GB.score(X_test,y_test)"
   ]
  },
  {
   "cell_type": "markdown",
   "metadata": {},
   "source": [
    "# Feature Importance"
   ]
  },
  {
   "cell_type": "code",
   "execution_count": 252,
   "metadata": {
    "collapsed": false
   },
   "outputs": [
    {
     "data": {
      "text/plain": [
       "[['Logs', 0.40337],\n",
       " ['EmailOpen', 0.32932],\n",
       " ['FormSubmit', 0.0939],\n",
       " ['EmailClickthrough', 0.08679],\n",
       " ['WebVisit', 0.05673],\n",
       " ['PageView', 0.02989]]"
      ]
     },
     "execution_count": 252,
     "metadata": {},
     "output_type": "execute_result"
    }
   ],
   "source": [
    "features = [[i,round(j,5)] for i,j in zip(col,GB.feature_importances_)]\n",
    "features_sorted = sorted(features, key= lambda x: x[1] ,reverse=True)\n",
    "features_sorted"
   ]
  },
  {
   "cell_type": "code",
   "execution_count": 253,
   "metadata": {
    "collapsed": true
   },
   "outputs": [],
   "source": [
    "feature_names = [ i[0] for i in features_sorted]\n",
    "feature_importance = [ i[1] for i in features_sorted]"
   ]
  },
  {
   "cell_type": "code",
   "execution_count": 254,
   "metadata": {
    "collapsed": false
   },
   "outputs": [
    {
     "data": {
      "text/plain": [
       "[0.40337, 0.32932, 0.0939, 0.08679, 0.05673, 0.02989]"
      ]
     },
     "execution_count": 254,
     "metadata": {},
     "output_type": "execute_result"
    }
   ],
   "source": [
    "feature_importance"
   ]
  },
  {
   "cell_type": "code",
   "execution_count": 255,
   "metadata": {
    "collapsed": true
   },
   "outputs": [],
   "source": [
    "feature_names.reverse()"
   ]
  },
  {
   "cell_type": "markdown",
   "metadata": {},
   "source": [
    "# The most important features are how many times someone logged in and emails opened which led to a purchase"
   ]
  },
  {
   "cell_type": "code",
   "execution_count": 256,
   "metadata": {
    "collapsed": false,
    "scrolled": false
   },
   "outputs": [
    {
     "data": {
      "image/png": "[encoded data removed]",
      "text/plain": [
       "<matplotlib.figure.Figure at 0x119fcb750>"
      ]
     },
     "metadata": {},
     "output_type": "display_data"
    }
   ],
   "source": [
    "#combined features\n",
    "plt.figure(figsize=(7,7))\n",
    "plt.barh(range(len(feature_importance)),sorted(feature_importance),align='center', color = 'whitesmoke')\n",
    "plt.yticks(range(len(feature_names)),feature_names)\n",
    "plt.xticks(fontsize=14)\n",
    "plt.xlabel('Relative importance', fontsize=18)\n",
    "plt.title('Made a Purchase', size = 25)\n",
    "plt.yticks(fontsize=14)\n",
    "plt.show()"
   ]
  },
  {
   "cell_type": "code",
   "execution_count": 257,
   "metadata": {
    "collapsed": false
   },
   "outputs": [
    {
     "name": "stdout",
     "output_type": "stream",
     "text": [
      "ROC AUC: 0.99\n",
      "Accuracy: 0.91595856478\n",
      "Precision: 0.941489361702\n",
      "Recall: 0.775635407537\n",
      "F1-score: 0.850552618933\n"
     ]
    },
    {
     "data": {
      "image/png": "[encoded data removed]",
      "text/plain": [
       "<matplotlib.figure.Figure at 0x1204e1850>"
      ]
     },
     "metadata": {},
     "output_type": "display_data"
    }
   ],
   "source": [
    "probabilities = GB.predict_proba(X_test)[:, 1]\n",
    "# predicting 1's\n",
    "\n",
    "fpr,tpr,threshold = roc_curve(y_test,probabilities)\n",
    "\n",
    "# activating roc_curve \n",
    "\n",
    "roc_auc = auc(fpr, tpr)\n",
    "print \"ROC AUC: %0.2f\" % roc_auc\n",
    "print_metrics(y_test, GB.predict(X_test))\n",
    "\n",
    "\n",
    "plt.plot(fpr, tpr, label='ROC curve (area = %0.2f)' % roc_auc)\n",
    "plt.xlabel(\"False Positive Rate (1 - Specificity)\")\n",
    "plt.ylabel(\"True Positive Rate (Sensitivity, Recall)\")\n",
    "plt.plot([0, 1], [0, 1], 'k--')\n",
    "plt.title(\"ROC Plot\")\n",
    "plt.show()"
   ]
  },
  {
   "cell_type": "code",
   "execution_count": 258,
   "metadata": {
    "collapsed": false,
    "scrolled": true
   },
   "outputs": [
    {
     "name": "stdout",
     "output_type": "stream",
     "text": [
      "Confusion matrix, without normalization\n",
      "[[22541   495]\n",
      " [ 2304  7965]]\n"
     ]
    },
    {
     "data": {
      "image/png": "[encoded data removed]",
      "text/plain": [
       "<matplotlib.figure.Figure at 0x1204e1710>"
      ]
     },
     "metadata": {},
     "output_type": "display_data"
    }
   ],
   "source": [
    "def plot_confusion_matrix(cm, title='Confusion matrix', cmap=plt.cm.Blues):\n",
    "    plt.imshow(cm, interpolation='nearest', cmap=cmap)\n",
    "    plt.title(title)\n",
    "    plt.colorbar()\n",
    "    plt.tight_layout()\n",
    "    plt.ylabel('True label')\n",
    "    plt.xlabel('Predicted label')\n",
    "\n",
    "\n",
    "# Compute confusion matrix\n",
    "cm = confusion_matrix(y_test, GB.predict(X_test))\n",
    "np.set_printoptions(precision=2)\n",
    "print('Confusion matrix, without normalization')\n",
    "print(cm)\n",
    "plt.figure()\n",
    "plot_confusion_matrix(cm)\n",
    "\n",
    "plt.show()"
   ]
  },
  {
   "cell_type": "markdown",
   "metadata": {},
   "source": [
    "# Created a Regression to estimate how many someone will purchase"
   ]
  },
  {
   "cell_type": "code",
   "execution_count": 259,
   "metadata": {
    "collapsed": false
   },
   "outputs": [],
   "source": [
    "X = np.asarray([training_data['EmailClickthrough'],\n",
    "                training_data['EmailOpen'],\n",
    "                training_data['FormSubmit'],\n",
    "                training_data['PageView'],\n",
    "                training_data['WebVisit'],\n",
    "                training_data['Logs']]).T\n",
    "y = np.asarray(training_data['Purchases'])  # took days out\n",
    "\n",
    "model = GradientBoostingRegressor()\n",
    "\n",
    "X_train , X_test, y_train, y_test = train_test_split(X,y, random_state = 42)\n",
    "\n",
    "model.fit(X_train,y_train)\n",
    "\n",
    "predict = model.predict(X_test)"
   ]
  },
  {
   "cell_type": "code",
   "execution_count": 260,
   "metadata": {
    "collapsed": false
   },
   "outputs": [
    {
     "data": {
      "text/plain": [
       "array([ 0.05,  0.27,  0.05,  0.13,  0.18,  0.32])"
      ]
     },
     "execution_count": 260,
     "metadata": {},
     "output_type": "execute_result"
    }
   ],
   "source": [
    "model.feature_importances_"
   ]
  },
  {
   "cell_type": "code",
   "execution_count": 261,
   "metadata": {
    "collapsed": false
   },
   "outputs": [
    {
     "data": {
      "text/plain": [
       "[['Logs', 0.32241],\n",
       " ['EmailOpen', 0.26711],\n",
       " ['WebVisit', 0.17837],\n",
       " ['PageView', 0.13375],\n",
       " ['EmailClickthrough', 0.05296],\n",
       " ['FormSubmit', 0.04541]]"
      ]
     },
     "execution_count": 261,
     "metadata": {},
     "output_type": "execute_result"
    }
   ],
   "source": [
    "features = [[i,round(j,5)] for i,j in zip(col,model.feature_importances_)]\n",
    "features_sorted = sorted(features, key= lambda x: x[1] ,reverse=True)\n",
    "features_sorted"
   ]
  },
  {
   "cell_type": "code",
   "execution_count": 262,
   "metadata": {
    "collapsed": true
   },
   "outputs": [],
   "source": [
    "feature_names = [ i[0] for i in features_sorted]\n",
    "feature_importance = [ i[1] for i in features_sorted]"
   ]
  },
  {
   "cell_type": "code",
   "execution_count": 263,
   "metadata": {
    "collapsed": true
   },
   "outputs": [],
   "source": [
    "feature_names.reverse()"
   ]
  },
  {
   "cell_type": "markdown",
   "metadata": {},
   "source": [
    "# The same feature importance for a purchase also was the same for how many purchased as well.  I estimated on average that a person will purchase 3 items over it’s lifetime versus 4 for the training set.  \n",
    "\n"
   ]
  },
  {
   "cell_type": "code",
   "execution_count": 264,
   "metadata": {
    "collapsed": false
   },
   "outputs": [
    {
     "data": {
      "image/png": "[encoded data removed]",
      "text/plain": [
       "<matplotlib.figure.Figure at 0x11785da50>"
      ]
     },
     "metadata": {},
     "output_type": "display_data"
    }
   ],
   "source": [
    "plt.figure(figsize=(7,7))\n",
    "plt.barh(range(len(feature_importance)),sorted(feature_importance),align='center', color = 'whitesmoke')\n",
    "plt.yticks(range(len(feature_names)),feature_names)\n",
    "plt.xticks(fontsize=14)\n",
    "plt.xlabel('Relative importance', fontsize=18)\n",
    "plt.title('Purchases Made', size = 25)\n",
    "plt.yticks(fontsize=14)\n",
    "plt.show()"
   ]
  },
  {
   "cell_type": "markdown",
   "metadata": {},
   "source": [
    "\n",
    "# Based on the scatter plot, the Regression model was moderately successful in predictions.  "
   ]
  },
  {
   "cell_type": "code",
   "execution_count": 265,
   "metadata": {
    "collapsed": false,
    "scrolled": true
   },
   "outputs": [
    {
     "data": {
      "text/plain": [
       "<matplotlib.text.Text at 0x122719410>"
      ]
     },
     "execution_count": 265,
     "metadata": {},
     "output_type": "execute_result"
    },
    {
     "data": {
      "image/png": "[encoded data removed]",
      "text/plain": [
       "<matplotlib.figure.Figure at 0x11a2103d0>"
      ]
     },
     "metadata": {},
     "output_type": "display_data"
    }
   ],
   "source": [
    "plt.scatter(y_test,predict);\n",
    "plt.title('Y vs Y Predicted')\n",
    "plt.xlabel('Y')\n",
    "plt.ylabel('predicted')"
   ]
  },
  {
   "cell_type": "code",
   "execution_count": 266,
   "metadata": {
    "collapsed": false
   },
   "outputs": [
    {
     "data": {
      "text/html": [
       "<div>\n",
       "<table border=\"1\" class=\"dataframe\">\n",
       "  <thead>\n",
       "    <tr style=\"text-align: right;\">\n",
       "      <th></th>\n",
       "      <th>ID</th>\n",
       "      <th>FormSubmit</th>\n",
       "      <th>EmailOpen</th>\n",
       "      <th>EmailClickthrough</th>\n",
       "      <th>PageView</th>\n",
       "      <th>WebVisit</th>\n",
       "      <th>Logs</th>\n",
       "      <th>PredictPurchase</th>\n",
       "      <th>EstimatedPurchases</th>\n",
       "    </tr>\n",
       "  </thead>\n",
       "  <tbody>\n",
       "    <tr>\n",
       "      <th>0</th>\n",
       "      <td>e6487f04a44444f</td>\n",
       "      <td>0</td>\n",
       "      <td>0</td>\n",
       "      <td>0</td>\n",
       "      <td>1</td>\n",
       "      <td>1</td>\n",
       "      <td>2</td>\n",
       "      <td>0.685508</td>\n",
       "      <td>1</td>\n",
       "    </tr>\n",
       "    <tr>\n",
       "      <th>1</th>\n",
       "      <td>c88480d19b2a617</td>\n",
       "      <td>0</td>\n",
       "      <td>3</td>\n",
       "      <td>0</td>\n",
       "      <td>0</td>\n",
       "      <td>0</td>\n",
       "      <td>3</td>\n",
       "      <td>0.027066</td>\n",
       "      <td>0</td>\n",
       "    </tr>\n",
       "    <tr>\n",
       "      <th>2</th>\n",
       "      <td>8cc15e801900cc4</td>\n",
       "      <td>0</td>\n",
       "      <td>2</td>\n",
       "      <td>0</td>\n",
       "      <td>0</td>\n",
       "      <td>0</td>\n",
       "      <td>2</td>\n",
       "      <td>0.017591</td>\n",
       "      <td>0</td>\n",
       "    </tr>\n",
       "    <tr>\n",
       "      <th>3</th>\n",
       "      <td>1a07e9bd3298a93</td>\n",
       "      <td>2</td>\n",
       "      <td>14</td>\n",
       "      <td>2</td>\n",
       "      <td>2</td>\n",
       "      <td>2</td>\n",
       "      <td>22</td>\n",
       "      <td>0.251876</td>\n",
       "      <td>1</td>\n",
       "    </tr>\n",
       "    <tr>\n",
       "      <th>4</th>\n",
       "      <td>3a9956a86a11033</td>\n",
       "      <td>0</td>\n",
       "      <td>6</td>\n",
       "      <td>0</td>\n",
       "      <td>0</td>\n",
       "      <td>0</td>\n",
       "      <td>6</td>\n",
       "      <td>0.046197</td>\n",
       "      <td>0</td>\n",
       "    </tr>\n",
       "  </tbody>\n",
       "</table>\n",
       "</div>"
      ],
      "text/plain": [
       "                ID  FormSubmit  EmailOpen  EmailClickthrough  PageView  \\\n",
       "0  e6487f04a44444f           0          0                  0         1   \n",
       "1  c88480d19b2a617           0          3                  0         0   \n",
       "2  8cc15e801900cc4           0          2                  0         0   \n",
       "3  1a07e9bd3298a93           2         14                  2         2   \n",
       "4  3a9956a86a11033           0          6                  0         0   \n",
       "\n",
       "   WebVisit  Logs  PredictPurchase  EstimatedPurchases  \n",
       "0         1     2         0.685508                   1  \n",
       "1         0     3         0.027066                   0  \n",
       "2         0     2         0.017591                   0  \n",
       "3         2    22         0.251876                   1  \n",
       "4         0     6         0.046197                   0  "
      ]
     },
     "execution_count": 266,
     "metadata": {},
     "output_type": "execute_result"
    }
   ],
   "source": [
    "testing_data = pd.read_csv('testing_set.csv')\n",
    "testing_data.head()"
   ]
  },
  {
   "cell_type": "code",
   "execution_count": 267,
   "metadata": {
    "collapsed": false
   },
   "outputs": [],
   "source": [
    "n = testing_data[['EmailClickthrough','EmailOpen','FormSubmit','PageView','WebVisit','Logs']].values"
   ]
  },
  {
   "cell_type": "code",
   "execution_count": 268,
   "metadata": {
    "collapsed": false
   },
   "outputs": [],
   "source": [
    "predictions = GB.predict_proba(n)"
   ]
  },
  {
   "cell_type": "code",
   "execution_count": 269,
   "metadata": {
    "collapsed": true
   },
   "outputs": [],
   "source": [
    "n_ = testing_data[['EmailClickthrough','EmailOpen','FormSubmit','PageView','WebVisit','Logs']].values"
   ]
  },
  {
   "cell_type": "code",
   "execution_count": 270,
   "metadata": {
    "collapsed": false
   },
   "outputs": [],
   "source": [
    "estimated_purchase = model.predict(n_)"
   ]
  },
  {
   "cell_type": "markdown",
   "metadata": {},
   "source": [
    "# At max, someone may purchase up to 18 items"
   ]
  },
  {
   "cell_type": "code",
   "execution_count": 271,
   "metadata": {
    "collapsed": false
   },
   "outputs": [
    {
     "data": {
      "text/plain": [
       "18.274283587732342"
      ]
     },
     "execution_count": 271,
     "metadata": {},
     "output_type": "execute_result"
    }
   ],
   "source": [
    "max(estimated_purchase)"
   ]
  },
  {
   "cell_type": "code",
   "execution_count": 272,
   "metadata": {
    "collapsed": false
   },
   "outputs": [],
   "source": [
    "predictions = GB.predict_proba(n)[:,1]"
   ]
  },
  {
   "cell_type": "code",
   "execution_count": 273,
   "metadata": {
    "collapsed": true
   },
   "outputs": [],
   "source": [
    "predicted = GB.predict(n)"
   ]
  },
  {
   "cell_type": "code",
   "execution_count": 274,
   "metadata": {
    "collapsed": false
   },
   "outputs": [
    {
     "data": {
      "text/plain": [
       "array([1, 0, 0, ..., 0, 0, 0])"
      ]
     },
     "execution_count": 274,
     "metadata": {},
     "output_type": "execute_result"
    }
   ],
   "source": [
    "predicted"
   ]
  },
  {
   "cell_type": "markdown",
   "metadata": {},
   "source": [
    "# Model predicts that only 2% of the people in the test set will purchase"
   ]
  },
  {
   "cell_type": "code",
   "execution_count": 275,
   "metadata": {
    "collapsed": false
   },
   "outputs": [
    {
     "data": {
      "text/plain": [
       "0.026616971613583316"
      ]
     },
     "execution_count": 275,
     "metadata": {},
     "output_type": "execute_result"
    }
   ],
   "source": [
    "sum(predicted) / len(testing_data)"
   ]
  },
  {
   "cell_type": "code",
   "execution_count": 276,
   "metadata": {
    "collapsed": true
   },
   "outputs": [],
   "source": [
    "testing_data[\"PredictPurchase\"] = predictions"
   ]
  },
  {
   "cell_type": "code",
   "execution_count": 277,
   "metadata": {
    "collapsed": true
   },
   "outputs": [],
   "source": [
    "testing_data['EstimatedPurchases'] = [0 if i<=1 else np.round(i) for i in estimated_purchase]"
   ]
  },
  {
   "cell_type": "markdown",
   "metadata": {},
   "source": [
    "# Will this person purchase? "
   ]
  },
  {
   "cell_type": "code",
   "execution_count": 278,
   "metadata": {
    "collapsed": false
   },
   "outputs": [
    {
     "data": {
      "text/html": [
       "<div>\n",
       "<table border=\"1\" class=\"dataframe\">\n",
       "  <thead>\n",
       "    <tr style=\"text-align: right;\">\n",
       "      <th></th>\n",
       "      <th>ID</th>\n",
       "      <th>FormSubmit</th>\n",
       "      <th>EmailOpen</th>\n",
       "      <th>EmailClickthrough</th>\n",
       "      <th>PageView</th>\n",
       "      <th>WebVisit</th>\n",
       "      <th>Logs</th>\n",
       "      <th>PredictPurchase</th>\n",
       "      <th>EstimatedPurchases</th>\n",
       "    </tr>\n",
       "  </thead>\n",
       "  <tbody>\n",
       "    <tr>\n",
       "      <th>74951</th>\n",
       "      <td>8070b641c86681d</td>\n",
       "      <td>0</td>\n",
       "      <td>0</td>\n",
       "      <td>0</td>\n",
       "      <td>23</td>\n",
       "      <td>23</td>\n",
       "      <td>46</td>\n",
       "      <td>0.982402</td>\n",
       "      <td>6.0</td>\n",
       "    </tr>\n",
       "    <tr>\n",
       "      <th>39237</th>\n",
       "      <td>323c7284034098b</td>\n",
       "      <td>0</td>\n",
       "      <td>0</td>\n",
       "      <td>0</td>\n",
       "      <td>44</td>\n",
       "      <td>44</td>\n",
       "      <td>88</td>\n",
       "      <td>0.980943</td>\n",
       "      <td>6.0</td>\n",
       "    </tr>\n",
       "    <tr>\n",
       "      <th>130602</th>\n",
       "      <td>612df76dc1ac3ed</td>\n",
       "      <td>0</td>\n",
       "      <td>0</td>\n",
       "      <td>0</td>\n",
       "      <td>11</td>\n",
       "      <td>11</td>\n",
       "      <td>22</td>\n",
       "      <td>0.980911</td>\n",
       "      <td>5.0</td>\n",
       "    </tr>\n",
       "    <tr>\n",
       "      <th>55253</th>\n",
       "      <td>490267b17a2462b</td>\n",
       "      <td>0</td>\n",
       "      <td>0</td>\n",
       "      <td>0</td>\n",
       "      <td>11</td>\n",
       "      <td>11</td>\n",
       "      <td>22</td>\n",
       "      <td>0.980911</td>\n",
       "      <td>5.0</td>\n",
       "    </tr>\n",
       "    <tr>\n",
       "      <th>116710</th>\n",
       "      <td>bb11509dcc926c9</td>\n",
       "      <td>0</td>\n",
       "      <td>0</td>\n",
       "      <td>0</td>\n",
       "      <td>11</td>\n",
       "      <td>11</td>\n",
       "      <td>22</td>\n",
       "      <td>0.980911</td>\n",
       "      <td>5.0</td>\n",
       "    </tr>\n",
       "  </tbody>\n",
       "</table>\n",
       "</div>"
      ],
      "text/plain": [
       "                     ID  FormSubmit  EmailOpen  EmailClickthrough  PageView  \\\n",
       "74951   8070b641c86681d           0          0                  0        23   \n",
       "39237   323c7284034098b           0          0                  0        44   \n",
       "130602  612df76dc1ac3ed           0          0                  0        11   \n",
       "55253   490267b17a2462b           0          0                  0        11   \n",
       "116710  bb11509dcc926c9           0          0                  0        11   \n",
       "\n",
       "        WebVisit  Logs  PredictPurchase  EstimatedPurchases  \n",
       "74951         23    46         0.982402                 6.0  \n",
       "39237         44    88         0.980943                 6.0  \n",
       "130602        11    22         0.980911                 5.0  \n",
       "55253         11    22         0.980911                 5.0  \n",
       "116710        11    22         0.980911                 5.0  "
      ]
     },
     "execution_count": 278,
     "metadata": {},
     "output_type": "execute_result"
    }
   ],
   "source": [
    "testing_data.sort_values(by=['PredictPurchase'], ascending=[False]).head()"
   ]
  },
  {
   "cell_type": "markdown",
   "metadata": {},
   "source": [
    "# How many will the person purchase? "
   ]
  },
  {
   "cell_type": "code",
   "execution_count": 279,
   "metadata": {
    "collapsed": false
   },
   "outputs": [
    {
     "data": {
      "text/html": [
       "<div>\n",
       "<table border=\"1\" class=\"dataframe\">\n",
       "  <thead>\n",
       "    <tr style=\"text-align: right;\">\n",
       "      <th></th>\n",
       "      <th>ID</th>\n",
       "      <th>FormSubmit</th>\n",
       "      <th>EmailOpen</th>\n",
       "      <th>EmailClickthrough</th>\n",
       "      <th>PageView</th>\n",
       "      <th>WebVisit</th>\n",
       "      <th>Logs</th>\n",
       "      <th>PredictPurchase</th>\n",
       "      <th>EstimatedPurchases</th>\n",
       "    </tr>\n",
       "  </thead>\n",
       "  <tbody>\n",
       "    <tr>\n",
       "      <th>54825</th>\n",
       "      <td>3ff1feb5b674e3a</td>\n",
       "      <td>59</td>\n",
       "      <td>63</td>\n",
       "      <td>19</td>\n",
       "      <td>54</td>\n",
       "      <td>69</td>\n",
       "      <td>264</td>\n",
       "      <td>0.754919</td>\n",
       "      <td>18.0</td>\n",
       "    </tr>\n",
       "    <tr>\n",
       "      <th>74774</th>\n",
       "      <td>1137a7de4a56a09</td>\n",
       "      <td>52</td>\n",
       "      <td>60</td>\n",
       "      <td>19</td>\n",
       "      <td>29</td>\n",
       "      <td>55</td>\n",
       "      <td>215</td>\n",
       "      <td>0.809713</td>\n",
       "      <td>17.0</td>\n",
       "    </tr>\n",
       "    <tr>\n",
       "      <th>128111</th>\n",
       "      <td>7c21520dc24c16f</td>\n",
       "      <td>58</td>\n",
       "      <td>65</td>\n",
       "      <td>24</td>\n",
       "      <td>49</td>\n",
       "      <td>63</td>\n",
       "      <td>259</td>\n",
       "      <td>0.754919</td>\n",
       "      <td>17.0</td>\n",
       "    </tr>\n",
       "    <tr>\n",
       "      <th>90858</th>\n",
       "      <td>fb2568cc6e4f93a</td>\n",
       "      <td>20</td>\n",
       "      <td>70</td>\n",
       "      <td>31</td>\n",
       "      <td>58</td>\n",
       "      <td>58</td>\n",
       "      <td>237</td>\n",
       "      <td>0.823669</td>\n",
       "      <td>17.0</td>\n",
       "    </tr>\n",
       "    <tr>\n",
       "      <th>7701</th>\n",
       "      <td>61d714a24ee246f</td>\n",
       "      <td>19</td>\n",
       "      <td>74</td>\n",
       "      <td>26</td>\n",
       "      <td>22</td>\n",
       "      <td>22</td>\n",
       "      <td>163</td>\n",
       "      <td>0.801019</td>\n",
       "      <td>16.0</td>\n",
       "    </tr>\n",
       "  </tbody>\n",
       "</table>\n",
       "</div>"
      ],
      "text/plain": [
       "                     ID  FormSubmit  EmailOpen  EmailClickthrough  PageView  \\\n",
       "54825   3ff1feb5b674e3a          59         63                 19        54   \n",
       "74774   1137a7de4a56a09          52         60                 19        29   \n",
       "128111  7c21520dc24c16f          58         65                 24        49   \n",
       "90858   fb2568cc6e4f93a          20         70                 31        58   \n",
       "7701    61d714a24ee246f          19         74                 26        22   \n",
       "\n",
       "        WebVisit  Logs  PredictPurchase  EstimatedPurchases  \n",
       "54825         69   264         0.754919                18.0  \n",
       "74774         55   215         0.809713                17.0  \n",
       "128111        63   259         0.754919                17.0  \n",
       "90858         58   237         0.823669                17.0  \n",
       "7701          22   163         0.801019                16.0  "
      ]
     },
     "execution_count": 279,
     "metadata": {},
     "output_type": "execute_result"
    }
   ],
   "source": [
    "testing_data.sort_values(by=['EstimatedPurchases'], ascending=[False]).head()"
   ]
  },
  {
   "cell_type": "code",
   "execution_count": 280,
   "metadata": {
    "collapsed": false
   },
   "outputs": [],
   "source": [
    "purchase_test =testing_data[testing_data['PredictPurchase']>.5]"
   ]
  },
  {
   "cell_type": "code",
   "execution_count": 281,
   "metadata": {
    "collapsed": false
   },
   "outputs": [
    {
     "data": {
      "text/plain": [
       "FormSubmit             2.194342\n",
       "EmailOpen             14.949929\n",
       "EmailClickthrough      3.596888\n",
       "PageView              10.822631\n",
       "WebVisit              10.874399\n",
       "Logs                  42.438190\n",
       "PredictPurchase        0.672159\n",
       "EstimatedPurchases     3.278925\n",
       "dtype: float64"
      ]
     },
     "execution_count": 281,
     "metadata": {},
     "output_type": "execute_result"
    }
   ],
   "source": [
    "np.mean(purchase_test) # estimated average purchase per user lifetime on test set."
   ]
  },
  {
   "cell_type": "code",
   "execution_count": 282,
   "metadata": {
    "collapsed": false
   },
   "outputs": [
    {
     "data": {
      "text/plain": [
       "CustomerSupport       1.000000\n",
       "EmailClickthrough     1.524357\n",
       "EmailOpen            13.884649\n",
       "FormSubmit            0.898841\n",
       "PageView              2.761982\n",
       "WebVisit              2.763308\n",
       "Logs                 26.972697\n",
       "Purchased             1.000000\n",
       "Purchases             4.139560\n",
       "dtype: float64"
      ]
     },
     "execution_count": 282,
     "metadata": {},
     "output_type": "execute_result"
    }
   ],
   "source": [
    "np.mean(training_data[training_data['Purchased']==1])  # average purchase per user lifetime."
   ]
  },
  {
   "cell_type": "markdown",
   "metadata": {},
   "source": [
    "FUTURE WORK:\n",
    "- Feature engineering to reduce the model size for features that are not relevant.\n",
    "- Run more Diagnostics for Regression model to produce more accurate estimates of purchasers.\n",
    "- Further research why the training set lists 30% of people made a purchase, but only predicted -2% will purchase from the actual test set.  It did so well on the train/test split.\n",
    "- Collect Customer Support data and more features,  to see if it makes an impact.\n",
    "- Automatic data aggregation in a SQL database, where as new logs come in, it will either create a new row for a new user, or update a current row.\n"
   ]
  },
  {
   "cell_type": "code",
   "execution_count": null,
   "metadata": {
    "collapsed": true
   },
   "outputs": [],
   "source": []
  }
 ],
 "metadata": {
  "anaconda-cloud": {},
  "kernelspec": {
   "display_name": "Python [default]",
   "language": "python",
   "name": "python2"
  },
  "language_info": {
   "codemirror_mode": {
    "name": "ipython",
    "version": 2
   },
   "file_extension": ".py",
   "mimetype": "text/x-python",
   "name": "python",
   "nbconvert_exporter": "python",
   "pygments_lexer": "ipython2",
   "version": "2.7.12"
  }
 },
 "nbformat": 4,
 "nbformat_minor": 1
}
