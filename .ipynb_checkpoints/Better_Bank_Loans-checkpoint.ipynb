{
 "cells": [
  {
   "cell_type": "markdown",
   "metadata": {},
   "source": [
    "# The Prompt\n",
    "\n",
    "We have access to a specific bank loan data. We have data about all loans asked to the bank, whether the bank decided to grant it and, finally, whether the borrower managed to repay it. \n",
    "We also have info about the borrower at the moment s/he is asking for the loan.\n",
    "You have to come up with a better strategy to grant loans. \n",
    "\n",
    "Specifically you should:\n",
    "Build a model which is better than the bank model. For simplicity, assume that:\n",
    "•\tIf you grant the loan and the it doesn't get repaid, you lose 1\n",
    "•\tIf you grant the loan and the it does get repaid, you gain 1\n",
    "•\tIf you don't grant the loan, you gain 0\n",
    "\n",
    "Using the rules above, compare bank profitability vs your model profitability\n",
    "•\tDescribe the impact of the most important variables on the prediction. Also, focus on the variable \"is_employed\", which describes whether the borrower is employed when she asks for the loan. How does this variable impact the model? \n",
    "\n",
    "Explain why\n",
    "Are there any other variables, not in the data provided, that you'd have liked to include in the model?\n",
    "\n",
    "The 2 tables are:\n",
    "\"loan_table\" - general information about the loan\n",
    "Columns:\n",
    "1.\tloan_id : the id of the loan. Unique by loan. Can be joined to loan id in the other table\n",
    "2.\tloan_purpose : the reason for asking the loan: investment, business, emergency_funds,\n",
    "3.\thome, other,\n",
    "4.\tdate : when the loan was asked\n",
    "5.\tloan_granted : whether the loan was granted\n",
    "6.\tloan_repaid : whether the loan was repaid. NA means that the loan was not granted\n",
    "\"borrower_table\" - information about the borrower\n",
    "Columns:\n",
    "1.\tloan_id : the id of the the loan. Unique by loan. Can be joined to loan id in the other table\n",
    "2.\tis_first_loan : did she ask for any other loans in her lifetime?\n",
    "3.\tfully_repaid_previous_loans : did she pay on time all of her previous loans?If this is the  first loan, it is NA\n",
    "4.\tcurrently_repaying_other_loans : is she currently repaying any other loans? If this is the first loan, it is NA\n",
    "5.\ttotal_credit_card_limit : total credit card monthly limit\n",
    "6.\tavg_percentage_credit_card_limit_used_last_year : on an average, how much did she use of her credit card limit in the previous 12 months. This number can be >1 since it is possible to go above the credit card limit\n",
    "7.\tsaving_amount : total saving account balance when she asked for the loan\n",
    "8.\tchecking_amount : total checking account balance when she asked for the loan\n",
    "9.\tis_employed : whether she is employed (1) or not (0)\n",
    "10.\tyearly_salary : how much she earned in the previous year\n",
    "11.\tage : her age\n",
    "12.\tdependent_number : number of people she claims as dependent\n"
   ]
  },
  {
   "cell_type": "markdown",
   "metadata": {},
   "source": [
    "# Approach:\n",
    "\n",
    "The first challenge was that information from 2 different data sets needs to be merged.\n",
    "In Excel, the information was custom sorted by Loan ID for “borrower” and “loan” table. Each table’sinformation corresponded to an ID. With the same ID and same amount of rows for each table, the information was copied and pasted into a new table called “combined_table”.\n",
    "The second challenge was that the data has many NA values to deal with. \n",
    "\n",
    "By simply dropping rows with NAvalues, most of the data would be lost. For each variable, the NA values were dealt with differently. For the“avg_percent_credit_limit_used_last_year” variable, the NA values was treated as 0’s. If there was no credit,there would be no credit average. For “Fully_repaid_previous_loans” and “currently_repaying_other_loans”, the\n",
    "\n",
    "approach was to dummify the variables:\n",
    "get_dummies(s1, dummy_na = True ) [1]\n",
    "a b NaN\n",
    "0 1 0 0\n",
    "1 0 1 0\n",
    "2 0 0 1\n",
    "\n",
    "That way, the variables would be retained. For the loan_repaid column, the NA values were converted into a number 2, which stated that the loan was not granted.\n",
    "The third challenge was the multi-categorical variables for “Loan_Purpose”. The solution was to dummify the variables so each category has its own binary column.\n",
    "\n",
    "\n",
    "# Classification:\n",
    "\n",
    "### I did a two part process:\n",
    "\n",
    "### 1. Does this person qualify for a loan? \n",
    "\n",
    "### 2. Will this person pay the loan back?\n",
    "\n",
    "\n",
    "\n",
    "I believe that this two model system is necessary because the first thing is to see if the person can get a loan and then see if the same person can pay it back."
   ]
  },
  {
   "cell_type": "code",
   "execution_count": 25,
   "metadata": {
    "collapsed": false
   },
   "outputs": [],
   "source": [
    "import pandas as pd\n",
    "import numpy as np\n",
    "from sklearn.ensemble import GradientBoostingClassifier \n",
    "from sklearn.multiclass import OneVsRestClassifier\n",
    "from sklearn.linear_model import LogisticRegression\n",
    "from sklearn.grid_search import GridSearchCV\n",
    "from sklearn.cross_validation import train_test_split , KFold\n",
    "from sklearn.metrics import f1_score, recall_score,precision_score , confusion_matrix, roc_curve, auc\n",
    "import matplotlib.pyplot as plt\n",
    "%matplotlib inline"
   ]
  },
  {
   "cell_type": "code",
   "execution_count": 2,
   "metadata": {
    "collapsed": false
   },
   "outputs": [],
   "source": [
    "df = pd.read_csv('challenge_data/combined_table_reduced.csv')\n"
   ]
  },
  {
   "cell_type": "code",
   "execution_count": 3,
   "metadata": {
    "collapsed": false
   },
   "outputs": [
    {
     "data": {
      "text/html": [
       "<div>\n",
       "<table border=\"1\" class=\"dataframe\">\n",
       "  <thead>\n",
       "    <tr style=\"text-align: right;\">\n",
       "      <th></th>\n",
       "      <th>loan_id</th>\n",
       "      <th>date</th>\n",
       "      <th>total_credit_card_limit</th>\n",
       "      <th>avg_%_credit_card_used</th>\n",
       "      <th>checking/saving_amount</th>\n",
       "      <th>is_employed</th>\n",
       "      <th>yearly_salary</th>\n",
       "      <th>age</th>\n",
       "      <th>dependent_number</th>\n",
       "      <th>loan_repaid</th>\n",
       "      <th>loan_granted</th>\n",
       "    </tr>\n",
       "  </thead>\n",
       "  <tbody>\n",
       "    <tr>\n",
       "      <th>0</th>\n",
       "      <td>30</td>\n",
       "      <td>12/6/12</td>\n",
       "      <td>4900</td>\n",
       "      <td>0.60</td>\n",
       "      <td>2792</td>\n",
       "      <td>0</td>\n",
       "      <td>0</td>\n",
       "      <td>43</td>\n",
       "      <td>8</td>\n",
       "      <td>2</td>\n",
       "      <td>0</td>\n",
       "    </tr>\n",
       "    <tr>\n",
       "      <th>1</th>\n",
       "      <td>34</td>\n",
       "      <td>5/7/12</td>\n",
       "      <td>7800</td>\n",
       "      <td>1.04</td>\n",
       "      <td>2296</td>\n",
       "      <td>0</td>\n",
       "      <td>0</td>\n",
       "      <td>71</td>\n",
       "      <td>8</td>\n",
       "      <td>2</td>\n",
       "      <td>0</td>\n",
       "    </tr>\n",
       "    <tr>\n",
       "      <th>2</th>\n",
       "      <td>37</td>\n",
       "      <td>12/6/12</td>\n",
       "      <td>3800</td>\n",
       "      <td>0.59</td>\n",
       "      <td>12548</td>\n",
       "      <td>1</td>\n",
       "      <td>36000</td>\n",
       "      <td>27</td>\n",
       "      <td>1</td>\n",
       "      <td>1</td>\n",
       "      <td>1</td>\n",
       "    </tr>\n",
       "    <tr>\n",
       "      <th>3</th>\n",
       "      <td>39</td>\n",
       "      <td>3/26/12</td>\n",
       "      <td>8200</td>\n",
       "      <td>0.69</td>\n",
       "      <td>5926</td>\n",
       "      <td>1</td>\n",
       "      <td>35700</td>\n",
       "      <td>44</td>\n",
       "      <td>0</td>\n",
       "      <td>2</td>\n",
       "      <td>0</td>\n",
       "    </tr>\n",
       "    <tr>\n",
       "      <th>4</th>\n",
       "      <td>40</td>\n",
       "      <td>2/8/12</td>\n",
       "      <td>5000</td>\n",
       "      <td>0.84</td>\n",
       "      <td>3670</td>\n",
       "      <td>1</td>\n",
       "      <td>9000</td>\n",
       "      <td>45</td>\n",
       "      <td>8</td>\n",
       "      <td>2</td>\n",
       "      <td>0</td>\n",
       "    </tr>\n",
       "  </tbody>\n",
       "</table>\n",
       "</div>"
      ],
      "text/plain": [
       "   loan_id     date  total_credit_card_limit  avg_%_credit_card_used  \\\n",
       "0       30  12/6/12                     4900                    0.60   \n",
       "1       34   5/7/12                     7800                    1.04   \n",
       "2       37  12/6/12                     3800                    0.59   \n",
       "3       39  3/26/12                     8200                    0.69   \n",
       "4       40   2/8/12                     5000                    0.84   \n",
       "\n",
       "   checking/saving_amount  is_employed  yearly_salary  age  dependent_number  \\\n",
       "0                    2792            0              0   43                 8   \n",
       "1                    2296            0              0   71                 8   \n",
       "2                   12548            1          36000   27                 1   \n",
       "3                    5926            1          35700   44                 0   \n",
       "4                    3670            1           9000   45                 8   \n",
       "\n",
       "   loan_repaid  loan_granted  \n",
       "0            2             0  \n",
       "1            2             0  \n",
       "2            1             1  \n",
       "3            2             0  \n",
       "4            2             0  "
      ]
     },
     "execution_count": 3,
     "metadata": {},
     "output_type": "execute_result"
    }
   ],
   "source": [
    "df.head()"
   ]
  },
  {
   "cell_type": "code",
   "execution_count": 6,
   "metadata": {
    "collapsed": false
   },
   "outputs": [],
   "source": [
    "df_ = df[list(df)[2:]]\n",
    "df_.hist(alpha=0.5, bins=50, figsize=(18, 14) , normed = True);"
   ]
  },
  {
   "cell_type": "code",
   "execution_count": 7,
   "metadata": {
    "collapsed": false
   },
   "outputs": [
    {
     "data": {
      "text/html": [
       "<div>\n",
       "<table border=\"1\" class=\"dataframe\">\n",
       "  <thead>\n",
       "    <tr style=\"text-align: right;\">\n",
       "      <th></th>\n",
       "      <th>total_credit_card_limit</th>\n",
       "      <th>avg_%_credit_card_used</th>\n",
       "      <th>checking/saving_amount</th>\n",
       "      <th>is_employed</th>\n",
       "      <th>yearly_salary</th>\n",
       "      <th>age</th>\n",
       "      <th>dependent_number</th>\n",
       "      <th>loan_repaid</th>\n",
       "      <th>loan_granted</th>\n",
       "    </tr>\n",
       "  </thead>\n",
       "  <tbody>\n",
       "    <tr>\n",
       "      <th>total_credit_card_limit</th>\n",
       "      <td>1.000000</td>\n",
       "      <td>0.318143</td>\n",
       "      <td>0.292580</td>\n",
       "      <td>0.195274</td>\n",
       "      <td>0.222497</td>\n",
       "      <td>-0.004052</td>\n",
       "      <td>-0.058650</td>\n",
       "      <td>-0.053773</td>\n",
       "      <td>0.184099</td>\n",
       "    </tr>\n",
       "    <tr>\n",
       "      <th>avg_%_credit_card_used</th>\n",
       "      <td>0.318143</td>\n",
       "      <td>1.000000</td>\n",
       "      <td>-0.009701</td>\n",
       "      <td>-0.009516</td>\n",
       "      <td>-0.011848</td>\n",
       "      <td>-0.002836</td>\n",
       "      <td>0.005154</td>\n",
       "      <td>-0.068921</td>\n",
       "      <td>0.046380</td>\n",
       "    </tr>\n",
       "    <tr>\n",
       "      <th>checking/saving_amount</th>\n",
       "      <td>0.292580</td>\n",
       "      <td>-0.009701</td>\n",
       "      <td>1.000000</td>\n",
       "      <td>0.302263</td>\n",
       "      <td>0.350416</td>\n",
       "      <td>-0.002399</td>\n",
       "      <td>-0.097528</td>\n",
       "      <td>0.027801</td>\n",
       "      <td>0.183418</td>\n",
       "    </tr>\n",
       "    <tr>\n",
       "      <th>is_employed</th>\n",
       "      <td>0.195274</td>\n",
       "      <td>-0.009516</td>\n",
       "      <td>0.302263</td>\n",
       "      <td>1.000000</td>\n",
       "      <td>0.799051</td>\n",
       "      <td>0.005059</td>\n",
       "      <td>-0.060847</td>\n",
       "      <td>-0.394513</td>\n",
       "      <td>0.500165</td>\n",
       "    </tr>\n",
       "    <tr>\n",
       "      <th>yearly_salary</th>\n",
       "      <td>0.222497</td>\n",
       "      <td>-0.011848</td>\n",
       "      <td>0.350416</td>\n",
       "      <td>0.799051</td>\n",
       "      <td>1.000000</td>\n",
       "      <td>0.005412</td>\n",
       "      <td>-0.073218</td>\n",
       "      <td>-0.258867</td>\n",
       "      <td>0.410128</td>\n",
       "    </tr>\n",
       "    <tr>\n",
       "      <th>age</th>\n",
       "      <td>-0.004052</td>\n",
       "      <td>-0.002836</td>\n",
       "      <td>-0.002399</td>\n",
       "      <td>0.005059</td>\n",
       "      <td>0.005412</td>\n",
       "      <td>1.000000</td>\n",
       "      <td>0.000862</td>\n",
       "      <td>-0.001903</td>\n",
       "      <td>0.002431</td>\n",
       "    </tr>\n",
       "    <tr>\n",
       "      <th>dependent_number</th>\n",
       "      <td>-0.058650</td>\n",
       "      <td>0.005154</td>\n",
       "      <td>-0.097528</td>\n",
       "      <td>-0.060847</td>\n",
       "      <td>-0.073218</td>\n",
       "      <td>0.000862</td>\n",
       "      <td>1.000000</td>\n",
       "      <td>-0.004493</td>\n",
       "      <td>-0.040237</td>\n",
       "    </tr>\n",
       "    <tr>\n",
       "      <th>loan_repaid</th>\n",
       "      <td>-0.053773</td>\n",
       "      <td>-0.068921</td>\n",
       "      <td>0.027801</td>\n",
       "      <td>-0.394513</td>\n",
       "      <td>-0.258867</td>\n",
       "      <td>-0.001903</td>\n",
       "      <td>-0.004493</td>\n",
       "      <td>1.000000</td>\n",
       "      <td>-0.899523</td>\n",
       "    </tr>\n",
       "    <tr>\n",
       "      <th>loan_granted</th>\n",
       "      <td>0.184099</td>\n",
       "      <td>0.046380</td>\n",
       "      <td>0.183418</td>\n",
       "      <td>0.500165</td>\n",
       "      <td>0.410128</td>\n",
       "      <td>0.002431</td>\n",
       "      <td>-0.040237</td>\n",
       "      <td>-0.899523</td>\n",
       "      <td>1.000000</td>\n",
       "    </tr>\n",
       "  </tbody>\n",
       "</table>\n",
       "</div>"
      ],
      "text/plain": [
       "                         total_credit_card_limit  avg_%_credit_card_used  \\\n",
       "total_credit_card_limit                 1.000000                0.318143   \n",
       "avg_%_credit_card_used                  0.318143                1.000000   \n",
       "checking/saving_amount                  0.292580               -0.009701   \n",
       "is_employed                             0.195274               -0.009516   \n",
       "yearly_salary                           0.222497               -0.011848   \n",
       "age                                    -0.004052               -0.002836   \n",
       "dependent_number                       -0.058650                0.005154   \n",
       "loan_repaid                            -0.053773               -0.068921   \n",
       "loan_granted                            0.184099                0.046380   \n",
       "\n",
       "                         checking/saving_amount  is_employed  yearly_salary  \\\n",
       "total_credit_card_limit                0.292580     0.195274       0.222497   \n",
       "avg_%_credit_card_used                -0.009701    -0.009516      -0.011848   \n",
       "checking/saving_amount                 1.000000     0.302263       0.350416   \n",
       "is_employed                            0.302263     1.000000       0.799051   \n",
       "yearly_salary                          0.350416     0.799051       1.000000   \n",
       "age                                   -0.002399     0.005059       0.005412   \n",
       "dependent_number                      -0.097528    -0.060847      -0.073218   \n",
       "loan_repaid                            0.027801    -0.394513      -0.258867   \n",
       "loan_granted                           0.183418     0.500165       0.410128   \n",
       "\n",
       "                              age  dependent_number  loan_repaid  loan_granted  \n",
       "total_credit_card_limit -0.004052         -0.058650    -0.053773      0.184099  \n",
       "avg_%_credit_card_used  -0.002836          0.005154    -0.068921      0.046380  \n",
       "checking/saving_amount  -0.002399         -0.097528     0.027801      0.183418  \n",
       "is_employed              0.005059         -0.060847    -0.394513      0.500165  \n",
       "yearly_salary            0.005412         -0.073218    -0.258867      0.410128  \n",
       "age                      1.000000          0.000862    -0.001903      0.002431  \n",
       "dependent_number         0.000862          1.000000    -0.004493     -0.040237  \n",
       "loan_repaid             -0.001903         -0.004493     1.000000     -0.899523  \n",
       "loan_granted             0.002431         -0.040237    -0.899523      1.000000  "
      ]
     },
     "execution_count": 7,
     "metadata": {},
     "output_type": "execute_result"
    }
   ],
   "source": [
    "df_.corr()"
   ]
  },
  {
   "cell_type": "code",
   "execution_count": 9,
   "metadata": {
    "collapsed": false
   },
   "outputs": [],
   "source": [
    "X = df[list(df)[2:-2]]\n",
    "y = df[list(df)[-1]]\n",
    "X_train_1,X_test_1,y_train_1,y_test_1 = train_test_split(X,y)\n",
    "GB = GradientBoostingClassifier()"
   ]
  },
  {
   "cell_type": "code",
   "execution_count": 10,
   "metadata": {
    "collapsed": false
   },
   "outputs": [
    {
     "data": {
      "text/plain": [
       "0.77875370919881304"
      ]
     },
     "execution_count": 10,
     "metadata": {},
     "output_type": "execute_result"
    }
   ],
   "source": [
    "GB.fit(X_train_1,y_train_1)\n",
    "GB.score(X_test_1,y_test_1)"
   ]
  },
  {
   "cell_type": "code",
   "execution_count": 11,
   "metadata": {
    "collapsed": false
   },
   "outputs": [
    {
     "data": {
      "text/plain": [
       "array([[ 0.8729146 ,  0.1270854 ],\n",
       "       [ 0.84851228,  0.15148772],\n",
       "       [ 0.31201076,  0.68798924],\n",
       "       ..., \n",
       "       [ 0.19443379,  0.80556621],\n",
       "       [ 0.28502031,  0.71497969],\n",
       "       [ 0.87399678,  0.12600322]])"
      ]
     },
     "execution_count": 11,
     "metadata": {},
     "output_type": "execute_result"
    }
   ],
   "source": [
    "GB.predict_proba(X)"
   ]
  },
  {
   "cell_type": "code",
   "execution_count": 15,
   "metadata": {
    "collapsed": false
   },
   "outputs": [],
   "source": [
    "lst = list(df)[2:-2]"
   ]
  },
  {
   "cell_type": "code",
   "execution_count": 16,
   "metadata": {
    "collapsed": false
   },
   "outputs": [
    {
     "data": {
      "text/plain": [
       "[['is_employed', 0.22594],\n",
       " ['checking/saving_amount', 0.21417],\n",
       " ['yearly_salary', 0.18736],\n",
       " ['total_credit_card_limit', 0.15045],\n",
       " ['avg_%_credit_card_used', 0.11806],\n",
       " ['age', 0.06869],\n",
       " ['dependent_number', 0.03533]]"
      ]
     },
     "execution_count": 16,
     "metadata": {},
     "output_type": "execute_result"
    }
   ],
   "source": [
    "features = [[i,round(j,5)] for i,j in zip(lst,GB.feature_importances_)]\n",
    "features_sorted = sorted(features, key= lambda x: x[1] ,reverse=True)\n",
    "features_sorted"
   ]
  },
  {
   "cell_type": "code",
   "execution_count": 17,
   "metadata": {
    "collapsed": false
   },
   "outputs": [],
   "source": [
    "# checking and savings was basically the same features so I combined them \n",
    "\n",
    "feature_engineering = [[\"checking/savings\", features_sorted[0][1] + features_sorted[1][1]]] + features_sorted[2:]"
   ]
  },
  {
   "cell_type": "code",
   "execution_count": 19,
   "metadata": {
    "collapsed": false
   },
   "outputs": [],
   "source": [
    "feature_names = [ i[0] for i in features_sorted]\n",
    "feature_importance = [ i[1] for i in features_sorted]"
   ]
  },
  {
   "cell_type": "code",
   "execution_count": 20,
   "metadata": {
    "collapsed": false
   },
   "outputs": [
    {
     "data": {
      "text/plain": [
       "[0.22594, 0.21417, 0.18736, 0.15045, 0.11806, 0.06869, 0.03533]"
      ]
     },
     "execution_count": 20,
     "metadata": {},
     "output_type": "execute_result"
    }
   ],
   "source": [
    "feature_importance"
   ]
  },
  {
   "cell_type": "code",
   "execution_count": 21,
   "metadata": {
    "collapsed": false
   },
   "outputs": [],
   "source": [
    "feature_names.reverse()"
   ]
  },
  {
   "cell_type": "code",
   "execution_count": 26,
   "metadata": {
    "collapsed": false
   },
   "outputs": [
    {
     "name": "stderr",
     "output_type": "stream",
     "text": [
      "//anaconda/lib/python2.7/site-packages/matplotlib/font_manager.py:273: UserWarning: Matplotlib is building the font cache using fc-list. This may take a moment.\n",
      "  warnings.warn('Matplotlib is building the font cache using fc-list. This may take a moment.')\n"
     ]
    },
    {
     "data": {
      "image/png": "[encoded data removed]",
      "text/plain": [
       "<matplotlib.figure.Figure at 0x11cc17950>"
      ]
     },
     "metadata": {},
     "output_type": "display_data"
    }
   ],
   "source": [
    "#combined features\n",
    "plt.figure(figsize=(10,7))\n",
    "plt.barh(range(len(feature_importance)),sorted(feature_importance),align='center', color = 'whitesmoke')\n",
    "plt.yticks(range(len(feature_names)),feature_names)\n",
    "plt.xticks(fontsize=14)\n",
    "plt.xlabel('Relative importance', fontsize=18)\n",
    "plt.title('Loan Granted', size = 25)\n",
    "plt.yticks(fontsize=14)\n",
    "plt.show()"
   ]
  },
  {
   "cell_type": "code",
   "execution_count": 22,
   "metadata": {
    "collapsed": false
   },
   "outputs": [
    {
     "name": "stdout",
     "output_type": "stream",
     "text": [
      "ROC AUC: 0.78\n"
     ]
    },
    {
     "data": {
      "image/png": "[encoded data removed]",
      "text/plain": [
       "<matplotlib.figure.Figure at 0x7eff41a28f50>"
      ]
     },
     "metadata": {},
     "output_type": "display_data"
    }
   ],
   "source": [
    "probabilities = GB.predict_proba(X_test_1)[:, 1]\n",
    "# predicting 1's\n",
    "\n",
    "fpr,tpr,threshold = roc_curve(y_test_1,probabilities)\n",
    "\n",
    "# activating roc_curve \n",
    "\n",
    "roc_auc = auc(fpr, tpr)\n",
    "print \"ROC AUC: %0.2f\" % roc_auc\n",
    "\n",
    "\n",
    "plt.plot(fpr, tpr, label='ROC curve (area = %0.2f)' % roc_auc)\n",
    "plt.xlabel(\"False Positive Rate (1 - Specificity)\")\n",
    "plt.ylabel(\"True Positive Rate (Sensitivity, Recall)\")\n",
    "plt.plot([0, 1], [0, 1], 'k--')\n",
    "plt.title(\"ROC Plot For Loans Granted\")\n",
    "plt.show()\n"
   ]
  },
  {
   "cell_type": "code",
   "execution_count": 24,
   "metadata": {
    "collapsed": false
   },
   "outputs": [
    {
     "name": "stdout",
     "output_type": "stream",
     "text": [
      "precision: 0.702083333333\n",
      "recall: 0.885864495887\n",
      "F1 score 0.783338956998\n"
     ]
    }
   ],
   "source": [
    "y_predict_1 = GB.predict(X_test_1)\n",
    "print \"precision:\", precision_score(y_test_1, y_predict_1)\n",
    "print \"recall:\", recall_score(y_test_1, y_predict_1)\n",
    "print \"F1 score\" , f1_score(y_test_1,y_predict_1)"
   ]
  },
  {
   "cell_type": "code",
   "execution_count": 20,
   "metadata": {
    "collapsed": true
   },
   "outputs": [],
   "source": [
    "loan_repaid = df[df['loan_granted']==1] # focusing on just loans granted"
   ]
  },
  {
   "cell_type": "code",
   "execution_count": 33,
   "metadata": {
    "collapsed": false
   },
   "outputs": [
    {
     "data": {
      "text/html": [
       "<div>\n",
       "<table border=\"1\" class=\"dataframe\">\n",
       "  <thead>\n",
       "    <tr style=\"text-align: right;\">\n",
       "      <th></th>\n",
       "      <th>loan_id</th>\n",
       "      <th>date</th>\n",
       "      <th>total_credit_card_limit</th>\n",
       "      <th>avg_%_credit_card_used</th>\n",
       "      <th>checking/saving_amount</th>\n",
       "      <th>is_employed</th>\n",
       "      <th>yearly_salary</th>\n",
       "      <th>age</th>\n",
       "      <th>dependent_number</th>\n",
       "      <th>loan_repaid</th>\n",
       "      <th>loan_granted</th>\n",
       "    </tr>\n",
       "  </thead>\n",
       "  <tbody>\n",
       "    <tr>\n",
       "      <th>2</th>\n",
       "      <td>37</td>\n",
       "      <td>12/6/12</td>\n",
       "      <td>3800</td>\n",
       "      <td>0.59</td>\n",
       "      <td>12548</td>\n",
       "      <td>1</td>\n",
       "      <td>36000</td>\n",
       "      <td>27</td>\n",
       "      <td>1</td>\n",
       "      <td>1</td>\n",
       "      <td>1</td>\n",
       "    </tr>\n",
       "    <tr>\n",
       "      <th>5</th>\n",
       "      <td>48</td>\n",
       "      <td>2/21/12</td>\n",
       "      <td>3200</td>\n",
       "      <td>0.50</td>\n",
       "      <td>2562</td>\n",
       "      <td>1</td>\n",
       "      <td>2400</td>\n",
       "      <td>57</td>\n",
       "      <td>8</td>\n",
       "      <td>0</td>\n",
       "      <td>1</td>\n",
       "    </tr>\n",
       "    <tr>\n",
       "      <th>7</th>\n",
       "      <td>109</td>\n",
       "      <td>4/16/12</td>\n",
       "      <td>4800</td>\n",
       "      <td>1.02</td>\n",
       "      <td>2898</td>\n",
       "      <td>0</td>\n",
       "      <td>0</td>\n",
       "      <td>49</td>\n",
       "      <td>4</td>\n",
       "      <td>0</td>\n",
       "      <td>1</td>\n",
       "    </tr>\n",
       "    <tr>\n",
       "      <th>8</th>\n",
       "      <td>111</td>\n",
       "      <td>11/9/12</td>\n",
       "      <td>3800</td>\n",
       "      <td>0.78</td>\n",
       "      <td>4043</td>\n",
       "      <td>1</td>\n",
       "      <td>42600</td>\n",
       "      <td>61</td>\n",
       "      <td>1</td>\n",
       "      <td>0</td>\n",
       "      <td>1</td>\n",
       "    </tr>\n",
       "    <tr>\n",
       "      <th>9</th>\n",
       "      <td>120</td>\n",
       "      <td>6/19/12</td>\n",
       "      <td>4800</td>\n",
       "      <td>0.29</td>\n",
       "      <td>5986</td>\n",
       "      <td>1</td>\n",
       "      <td>29800</td>\n",
       "      <td>25</td>\n",
       "      <td>0</td>\n",
       "      <td>1</td>\n",
       "      <td>1</td>\n",
       "    </tr>\n",
       "  </tbody>\n",
       "</table>\n",
       "</div>"
      ],
      "text/plain": [
       "   loan_id     date  total_credit_card_limit  avg_%_credit_card_used  \\\n",
       "2       37  12/6/12                     3800                    0.59   \n",
       "5       48  2/21/12                     3200                    0.50   \n",
       "7      109  4/16/12                     4800                    1.02   \n",
       "8      111  11/9/12                     3800                    0.78   \n",
       "9      120  6/19/12                     4800                    0.29   \n",
       "\n",
       "   checking/saving_amount  is_employed  yearly_salary  age  dependent_number  \\\n",
       "2                   12548            1          36000   27                 1   \n",
       "5                    2562            1           2400   57                 8   \n",
       "7                    2898            0              0   49                 4   \n",
       "8                    4043            1          42600   61                 1   \n",
       "9                    5986            1          29800   25                 0   \n",
       "\n",
       "   loan_repaid  loan_granted  \n",
       "2            1             1  \n",
       "5            0             1  \n",
       "7            0             1  \n",
       "8            0             1  \n",
       "9            1             1  "
      ]
     },
     "execution_count": 33,
     "metadata": {},
     "output_type": "execute_result"
    }
   ],
   "source": [
    "loan_repaid.head()"
   ]
  },
  {
   "cell_type": "code",
   "execution_count": 34,
   "metadata": {
    "collapsed": false
   },
   "outputs": [],
   "source": [
    "X_2 = loan_repaid[list(loan_repaid)[2:-2]]\n",
    "y_2 = loan_repaid[list(loan_repaid)[-2]]\n",
    "X_train_2,X_test_2,y_train_2,y_test_2 = train_test_split(X_2,y_2)\n",
    "GB_2 = GradientBoostingClassifier()"
   ]
  },
  {
   "cell_type": "code",
   "execution_count": 35,
   "metadata": {
    "collapsed": false
   },
   "outputs": [
    {
     "data": {
      "text/plain": [
       "['loan_id',\n",
       " 'date',\n",
       " 'total_credit_card_limit',\n",
       " 'avg_%_credit_card_used',\n",
       " 'checking/saving_amount',\n",
       " 'is_employed',\n",
       " 'yearly_salary',\n",
       " 'age',\n",
       " 'dependent_number',\n",
       " 'loan_repaid',\n",
       " 'loan_granted']"
      ]
     },
     "execution_count": 35,
     "metadata": {},
     "output_type": "execute_result"
    }
   ],
   "source": [
    "list(loan_repaid)"
   ]
  },
  {
   "cell_type": "code",
   "execution_count": 36,
   "metadata": {
    "collapsed": false
   },
   "outputs": [
    {
     "data": {
      "text/plain": [
       "0.89768339768339767"
      ]
     },
     "execution_count": 36,
     "metadata": {},
     "output_type": "execute_result"
    }
   ],
   "source": [
    "GB_2.fit(X_train_2,y_train_2)\n",
    "GB_2.score(X_test_2,y_test_2)"
   ]
  },
  {
   "cell_type": "code",
   "execution_count": 37,
   "metadata": {
    "collapsed": false
   },
   "outputs": [
    {
     "data": {
      "text/plain": [
       "array([[ 0.00573579,  0.99426421],\n",
       "       [ 0.86911681,  0.13088319],\n",
       "       [ 0.96476479,  0.03523521],\n",
       "       ..., \n",
       "       [ 0.00264541,  0.99735459],\n",
       "       [ 0.02871915,  0.97128085],\n",
       "       [ 0.00311185,  0.99688815]])"
      ]
     },
     "execution_count": 37,
     "metadata": {},
     "output_type": "execute_result"
    }
   ],
   "source": [
    "GB_2.predict_proba(X_2)"
   ]
  },
  {
   "cell_type": "code",
   "execution_count": 38,
   "metadata": {
    "collapsed": false
   },
   "outputs": [
    {
     "data": {
      "text/plain": [
       "[['checking/saving_amount', 0.46303],\n",
       " ['total_credit_card_limit', 0.17978],\n",
       " ['yearly_salary', 0.14294],\n",
       " ['avg_%_credit_card_used', 0.11552],\n",
       " ['dependent_number', 0.06085],\n",
       " ['is_employed', 0.02523],\n",
       " ['age', 0.01265]]"
      ]
     },
     "execution_count": 38,
     "metadata": {},
     "output_type": "execute_result"
    }
   ],
   "source": [
    "features = [[i,round(j,5)] for i,j in zip(X,GB_2.feature_importances_)]\n",
    "features_sorted = sorted(features, key= lambda x: x[1] ,reverse=True)\n",
    "features_sorted"
   ]
  },
  {
   "cell_type": "code",
   "execution_count": 30,
   "metadata": {
    "collapsed": false
   },
   "outputs": [
    {
     "name": "stdout",
     "output_type": "stream",
     "text": [
      "ROC AUC: 0.96\n"
     ]
    },
    {
     "data": {
      "image/png": "[encoded data removed]",
      "text/plain": [
       "<matplotlib.figure.Figure at 0x7eff419d8e90>"
      ]
     },
     "metadata": {},
     "output_type": "display_data"
    }
   ],
   "source": [
    "probabilities = GB_2.predict_proba(X_test_2)[:, 1]\n",
    "# predicting 1's\n",
    "\n",
    "fpr,tpr,threshold = roc_curve(y_test_2,probabilities)\n",
    "\n",
    "# activating roc_curve \n",
    "\n",
    "roc_auc = auc(fpr, tpr)\n",
    "print \"ROC AUC: %0.2f\" % roc_auc\n",
    "\n",
    "\n",
    "plt.plot(fpr, tpr, label='ROC curve (area = %0.2f)' % roc_auc)\n",
    "plt.xlabel(\"False Positive Rate (1 - Specificity)\")\n",
    "plt.ylabel(\"True Positive Rate (Sensitivity, Recall)\")\n",
    "plt.plot([0, 1], [0, 1], 'k--')\n",
    "plt.title(\"ROC plot\")\n",
    "plt.show()\n",
    "\n",
    "#produces a very good area under the curve score"
   ]
  },
  {
   "cell_type": "code",
   "execution_count": 31,
   "metadata": {
    "collapsed": false
   },
   "outputs": [],
   "source": [
    "feature_engineering_2 =  features_sorted\n",
    "feature_names_2 = [ i[0] for i in feature_engineering_2]\n",
    "feature_importance_2 = [ i[1] for i in feature_engineering_2]\n",
    "feature_names_2.reverse()"
   ]
  },
  {
   "cell_type": "code",
   "execution_count": 32,
   "metadata": {
    "collapsed": false
   },
   "outputs": [
    {
     "data": {
      "image/png": "[encoded data removed]",
      "text/plain": [
       "<matplotlib.figure.Figure at 0x7eff411a1f50>"
      ]
     },
     "metadata": {},
     "output_type": "display_data"
    }
   ],
   "source": [
    "plt.figure(figsize=(10,7))\n",
    "plt.barh(range(len(feature_importance_2)),sorted(feature_importance_2),align='center', color = 'whitesmoke')\n",
    "plt.yticks(range(len(feature_names_2)),feature_names_2)\n",
    "plt.xticks(fontsize=14)\n",
    "plt.xlabel('Relative importance', fontsize=18)\n",
    "plt.title('Loan Repaid', size = 25)\n",
    "plt.yticks(fontsize=14)\n",
    "plt.show()"
   ]
  },
  {
   "cell_type": "code",
   "execution_count": 33,
   "metadata": {
    "collapsed": false
   },
   "outputs": [
    {
     "name": "stdout",
     "output_type": "stream",
     "text": [
      "precision: 0.928859060403\n",
      "recall: 0.902098813714\n",
      "F1 score 0.915283380729\n"
     ]
    }
   ],
   "source": [
    "y_predict_2 = GB_2.predict(X_test_2)\n",
    "print \"precision:\", precision_score(y_test_2, y_predict_2)\n",
    "print \"recall:\", recall_score(y_test_2, y_predict_2)\n",
    "print \"F1 score\" , f1_score(y_test_2,y_predict_2)"
   ]
  }
 ],
 "metadata": {
  "anaconda-cloud": {},
  "kernelspec": {
   "display_name": "Python [default]",
   "language": "python",
   "name": "python2"
  },
  "language_info": {
   "codemirror_mode": {
    "name": "ipython",
    "version": 2
   },
   "file_extension": ".py",
   "mimetype": "text/x-python",
   "name": "python",
   "nbconvert_exporter": "python",
   "pygments_lexer": "ipython2",
   "version": "2.7.12"
  }
 },
 "nbformat": 4,
 "nbformat_minor": 0
}
